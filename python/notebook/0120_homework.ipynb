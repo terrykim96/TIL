{
 "cells": [
  {
   "cell_type": "markdown",
   "id": "8872355e",
   "metadata": {},
   "source": [
    "# 이름 공간(Namespace)\n",
    "Python에서 변수를 찾을 때 접근하는 이름 공간을 순서대로 작성하시오.\n",
    "\n",
    "Local scope: 함수\n",
    "Enclosed scope: 특정 함수의 상위 함수\n",
    "Global scope: 함수 밖의 변수 혹은 import된 모듈\n",
    "Built-in scope: 파이썬안에 내장되어 있는 함수 또는 속성"
   ]
  },
  {
   "cell_type": "markdown",
   "id": "852227fa",
   "metadata": {},
   "source": [
    "# 매개변수와 인자, 그리고 반환\n",
    "아래의 보기 (1) ~ (4) 중에서, 옳지 않은 것을 고르시오.\n",
    "\n",
    "(1). 함수는 여러개의 객체를 반환할 수 있습니다."
   ]
  },
  {
   "cell_type": "markdown",
   "id": "07e89f8d",
   "metadata": {},
   "source": [
    "# 재귀 함수\n",
    "재귀 함수를 사용했을 때 얻을 수 있는 장점과 단점을 반복문과 비교하여 작성하시오.\n",
    "\n",
    "장점\n",
    "코드가 더 직관적이고 이해하기 쉬운 경우가 많습니다. 일반적인 반복문의 경우 코드가 길어지는 것을 재귀함수를 이용하면 짧게 짤 수 있습니다.\n",
    "\n",
    "단점\n",
    "함수가 호출될 때마다 메모리 공간에 쌓여 메모리 스택이 넘치는 경우 프로그램의 실행 속도가 느려집니다. 이를 방지하기 위해 최대 재귀 깊이라는 것이 존재합니다."
   ]
  }
 ],
 "metadata": {
  "kernelspec": {
   "display_name": "Python 3 (ipykernel)",
   "language": "python",
   "name": "python3"
  },
  "language_info": {
   "codemirror_mode": {
    "name": "ipython",
    "version": 3
   },
   "file_extension": ".py",
   "mimetype": "text/x-python",
   "name": "python",
   "nbconvert_exporter": "python",
   "pygments_lexer": "ipython3",
   "version": "3.9.9"
  },
  "toc": {
   "base_numbering": 1,
   "nav_menu": {},
   "number_sections": true,
   "sideBar": true,
   "skip_h1_title": false,
   "title_cell": "Table of Contents",
   "title_sidebar": "Contents",
   "toc_cell": false,
   "toc_position": {},
   "toc_section_display": true,
   "toc_window_display": false
  }
 },
 "nbformat": 4,
 "nbformat_minor": 5
}
