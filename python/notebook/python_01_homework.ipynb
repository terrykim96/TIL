{
 "cells": [
  {
   "cell_type": "markdown",
   "id": "073eb727",
   "metadata": {},
   "source": [
    "# 파이썬 예약어\n",
    "\n",
    "python에서 사용할 수 없는 식별자(예약어)를 찾아 작성하시오.\n",
    "1. 파이썬에서 사용되는 키워드(기본 함수)를 사용하는 경우\n",
    "2. 공백이 있는 경우\n",
    "3. 숫자로 시작하는 경우"
   ]
  },
  {
   "cell_type": "code",
   "execution_count": 60,
   "id": "615f8dda",
   "metadata": {
    "ExecuteTime": {
     "end_time": "2022-01-17T05:46:39.448928Z",
     "start_time": "2022-01-17T05:46:39.437958Z"
    }
   },
   "outputs": [
    {
     "name": "stdout",
     "output_type": "stream",
     "text": [
      "['False', 'None', 'True', '__peg_parser__', 'and', 'as', 'assert', 'async', 'await', 'break', 'class', 'continue', 'def', 'del', 'elif', 'else', 'except', 'finally', 'for', 'from', 'global', 'if', 'import', 'in', 'is', 'lambda', 'nonlocal', 'not', 'or', 'pass', 'raise', 'return', 'try', 'while', 'with', 'yield']\n"
     ]
    }
   ],
   "source": [
    "import keyword\n",
    "\n",
    "print(keyword.kwlist)"
   ]
  },
  {
   "cell_type": "markdown",
   "id": "50871284",
   "metadata": {},
   "source": [
    "# 실수 비교"
   ]
  },
  {
   "cell_type": "code",
   "execution_count": 65,
   "id": "84beab3b",
   "metadata": {
    "ExecuteTime": {
     "end_time": "2022-01-17T05:53:48.090278Z",
     "start_time": "2022-01-17T05:53:48.083297Z"
    }
   },
   "outputs": [
    {
     "name": "stdout",
     "output_type": "stream",
     "text": [
      "True\n",
      "True\n",
      "True\n"
     ]
    }
   ],
   "source": [
    "num1 = 0.1*3\n",
    "num2 = 0.3\n",
    "\n",
    "#  System 상의 machine epslion을 사용합니다.\n",
    "import sys\n",
    "print(abs(num1-num2) <= sys.float_info.epsilon)\n",
    "\n",
    "# Pythjon 3.5 이상에서 isclose 함수를 사용합니다.\n",
    "import math\n",
    "print(math.isclose(num1, num2))\n",
    "\n",
    "# round 함수를 이용해 소수점 자리수를 일치시킵니다.\n",
    "num1 = round(num1, 2)\n",
    "num2 = round(num2, 2)\n",
    "print(num1 == num2)"
   ]
  },
  {
   "cell_type": "markdown",
   "id": "4c84ddf5",
   "metadata": {},
   "source": [
    "# 이스케이프 시퀀스\n",
    "\n",
    "(1) 줄바꿈: \\n, (2) 탭: \\t (3) 백슬래시: \\\\"
   ]
  },
  {
   "cell_type": "markdown",
   "id": "cfe392e0",
   "metadata": {
    "ExecuteTime": {
     "end_time": "2022-01-17T05:11:03.385732Z",
     "start_time": "2022-01-17T05:11:03.375787Z"
    }
   },
   "source": [
    "# String Interpolation"
   ]
  },
  {
   "cell_type": "code",
   "execution_count": 18,
   "id": "a9519b95",
   "metadata": {
    "ExecuteTime": {
     "end_time": "2022-01-17T05:15:01.390358Z",
     "start_time": "2022-01-17T05:15:01.378348Z"
    }
   },
   "outputs": [
    {
     "name": "stdout",
     "output_type": "stream",
     "text": [
      "안녕, 철수야\n",
      "안녕, 철수야\n"
     ]
    }
   ],
   "source": [
    "name = '철수'\n",
    "\n",
    "# f-string\n",
    "print(f\"안녕, {name}야\")\n",
    "\n",
    "# + 사용\n",
    "print(\"안녕, \"+name+\"야\")"
   ]
  },
  {
   "cell_type": "markdown",
   "id": "1315ef0b",
   "metadata": {},
   "source": [
    "# 형 변환\n",
    "\n",
    "(5)번 코드가 오류가 발생한다. int는 정수가 아닌 문자열이 입력될 경우 오류가 발생한다."
   ]
  },
  {
   "cell_type": "markdown",
   "id": "88ee6774",
   "metadata": {
    "ExecuteTime": {
     "end_time": "2022-01-17T05:15:42.119031Z",
     "start_time": "2022-01-17T05:15:42.097006Z"
    }
   },
   "source": [
    "# 네모 출력"
   ]
  },
  {
   "cell_type": "code",
   "execution_count": 61,
   "id": "d5a6517b",
   "metadata": {
    "ExecuteTime": {
     "end_time": "2022-01-17T05:48:06.061377Z",
     "start_time": "2022-01-17T05:48:06.054354Z"
    }
   },
   "outputs": [
    {
     "name": "stdout",
     "output_type": "stream",
     "text": [
      "*****\n",
      "*****\n",
      "*****\n",
      "*****\n",
      "*****\n",
      "*****\n",
      "*****\n",
      "*****\n",
      "*****\n",
      "\n"
     ]
    }
   ],
   "source": [
    "n = 5\n",
    "m = 9\n",
    "\n",
    "print((\"*\"*n+'\\n')*m)"
   ]
  },
  {
   "cell_type": "markdown",
   "id": "fd37738e",
   "metadata": {},
   "source": [
    "# 이스케이프 시퀀스 응용"
   ]
  },
  {
   "cell_type": "code",
   "execution_count": 35,
   "id": "d5f5fd0d",
   "metadata": {
    "ExecuteTime": {
     "end_time": "2022-01-17T05:29:46.426603Z",
     "start_time": "2022-01-17T05:29:46.422586Z"
    }
   },
   "outputs": [
    {
     "name": "stdout",
     "output_type": "stream",
     "text": [
      "\"파일은 c:\\Windows\\Users\\내문서\\Python에 저장이 되었습니다.\"\n",
      "나는 생각했다. 'cd를 써서 git bash로 들어가 봐야지.'\n"
     ]
    }
   ],
   "source": [
    "print(\"\\\"파일은 c:\\Windows\\\\Users\\\\내문서\\\\Python에 저장이 되었습니다.\\\"\\n나는 생각했다. 'cd를 써서 git bash로 들어가 봐야지.'\")"
   ]
  },
  {
   "cell_type": "markdown",
   "id": "8a487034",
   "metadata": {},
   "source": [
    "# 근의 공식"
   ]
  },
  {
   "cell_type": "code",
   "execution_count": 57,
   "id": "ec23c0d2",
   "metadata": {
    "ExecuteTime": {
     "end_time": "2022-01-17T05:38:36.354767Z",
     "start_time": "2022-01-17T05:38:36.339750Z"
    }
   },
   "outputs": [],
   "source": [
    "import math\n",
    "def answer(a,b,c):\n",
    "    # 판별식이 0보다 크거나 같을 때 판별식 결과 return\n",
    "    descriminant = b**2-4*a*c\n",
    "    if descriminant>=0:\n",
    "        ans1 = (-b+math.sqrt(b**2-4*a*c))/2*a\n",
    "        ans2 = (-b-math.sqrt(b**2-4*a*c))/2*a\n",
    "        return ans1, ans2\n",
    "    # 판별식이 0보다 작으면 해가 없다고 알려줍니다.\n",
    "    else:\n",
    "        print(\"해가 없습니다.\")"
   ]
  },
  {
   "cell_type": "code",
   "execution_count": 59,
   "id": "a8e06420",
   "metadata": {
    "ExecuteTime": {
     "end_time": "2022-01-17T05:38:46.327192Z",
     "start_time": "2022-01-17T05:38:46.309241Z"
    }
   },
   "outputs": [
    {
     "data": {
      "text/plain": [
       "(-1.0, -1.0)"
      ]
     },
     "execution_count": 59,
     "metadata": {},
     "output_type": "execute_result"
    }
   ],
   "source": [
    "answer(1,2, 1)"
   ]
  }
 ],
 "metadata": {
  "kernelspec": {
   "display_name": "Python 3 (ipykernel)",
   "language": "python",
   "name": "python3"
  },
  "language_info": {
   "codemirror_mode": {
    "name": "ipython",
    "version": 3
   },
   "file_extension": ".py",
   "mimetype": "text/x-python",
   "name": "python",
   "nbconvert_exporter": "python",
   "pygments_lexer": "ipython3",
   "version": "3.9.9"
  },
  "toc": {
   "base_numbering": 1,
   "nav_menu": {},
   "number_sections": true,
   "sideBar": false,
   "skip_h1_title": false,
   "title_cell": "Table of Contents",
   "title_sidebar": "Contents",
   "toc_cell": false,
   "toc_position": {
    "height": "757px",
    "left": "35px",
    "top": "89px",
    "width": "384px"
   },
   "toc_section_display": true,
   "toc_window_display": true
  }
 },
 "nbformat": 4,
 "nbformat_minor": 5
}
