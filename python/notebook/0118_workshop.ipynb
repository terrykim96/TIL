{
 "cells": [
  {
   "cell_type": "markdown",
   "id": "1e92a88f",
   "metadata": {},
   "source": [
    "# 간단한 N의 약수 (SWEA 1933)\n",
    "입력으로 1개의 정수 N이 주어진다. 정수 N의 약수를 오름차순으로 출력하는 프로그램\n",
    "을 작성하시오"
   ]
  },
  {
   "cell_type": "code",
   "execution_count": 7,
   "id": "8e564a64",
   "metadata": {
    "ExecuteTime": {
     "end_time": "2022-01-18T14:30:24.364397Z",
     "start_time": "2022-01-18T14:30:23.331527Z"
    }
   },
   "outputs": [
    {
     "name": "stdout",
     "output_type": "stream",
     "text": [
      "10\n",
      "1 2 5 10 "
     ]
    }
   ],
   "source": [
    "N = int(input())\n",
    "\n",
    "# 입력 받은 정수 N까지의 반복문을 만들어준다.\n",
    "for i in range(1, N+1):\n",
    "    # N으로 나누어 떨어지는 수는 끝에 공백을 주면서 출력한다.\n",
    "    if N % i == 0:\n",
    "        print(i, end = ' ')"
   ]
  },
  {
   "cell_type": "markdown",
   "id": "30822ffa",
   "metadata": {},
   "source": [
    "# 중간값 찾기 (SWEA 2063 변형)\n",
    "중간값은 통계 집단의 수치를 크기 순으로 배열 했을 때 전체의 중앙에 위치하는 수치를\n",
    "뜻한다. 리스트 numbers에 입력된 숫자에서 중간값을 출력하라."
   ]
  },
  {
   "cell_type": "code",
   "execution_count": 15,
   "id": "b7d04758",
   "metadata": {
    "ExecuteTime": {
     "end_time": "2022-01-18T14:47:19.302961Z",
     "start_time": "2022-01-18T14:47:19.290978Z"
    }
   },
   "outputs": [
    {
     "name": "stdout",
     "output_type": "stream",
     "text": [
      "[11, 22, 23, 24, 24, 25, 31, 38, 49, 49, 51, 52, 60, 60, 61, 63, 64, 65, 66, 67, 68, 69, 71, 72, 80, 80, 83, 85, 87, 90, 94, 96, 99]\n",
      "리스트의 중간값은 64입니다.\n"
     ]
    }
   ],
   "source": [
    "numbers = [ 85, 72, 38, 80, 69, 65, 68, 96, 22, 49, 67,\n",
    "    51, 61, 63, 87, 66, 24, 80, 83, 71, 60, 64,\n",
    "    52, 90, 60, 49, 31, 23, 99, 94, 11, 25, 24]\n",
    "\n",
    "numbers.sort()\n",
    "medians = 0\n",
    "tmp = 0\n",
    "print(numbers)\n",
    "\n",
    "# 리스트의 개수가 짝수일 때는 리스트의 중간 두개의 값의 평균을 구합니다.\n",
    "if len(numbers)%2 == 0:\n",
    "    tmp = len(numbers)//2 - 1\n",
    "    medians = (numbers[tmp - 1] + numbers[tmp])/2\n",
    "\n",
    "# 리스트의 개수가 홀수일 때는 리스트의 중간 값을 구합니다.\n",
    "else:\n",
    "    tmp = len(numbers)//2\n",
    "    medians = numbers[tmp]\n",
    "print(f'리스트의 중간값은 {medians}입니다.')"
   ]
  },
  {
   "cell_type": "markdown",
   "id": "38d05fdd",
   "metadata": {},
   "source": [
    "# 계단 만들기\n",
    "자연수 number를 입력 받아, 아래와 같이 높이가 number인 내려가는 계단을 출력하시오."
   ]
  },
  {
   "cell_type": "code",
   "execution_count": 22,
   "id": "2e77f299",
   "metadata": {
    "ExecuteTime": {
     "end_time": "2022-01-18T14:52:36.934358Z",
     "start_time": "2022-01-18T14:52:35.306848Z"
    }
   },
   "outputs": [
    {
     "name": "stdout",
     "output_type": "stream",
     "text": [
      "4\n",
      "1 \n",
      "1 2 \n",
      "1 2 3 \n",
      "1 2 3 4 \n"
     ]
    }
   ],
   "source": [
    "number = int(input())\n",
    "\n",
    "# 입력받은 number까지 반복문을 만듭니다.\n",
    "for i in range(1, number+1):\n",
    "    # 1부터 현재 줄의 번호까지 반복문을 만들어 끝에 공백을 주면서 출력합니다.\n",
    "    for j in range(1, i+1):\n",
    "        print(j, end=' ')\n",
    "    # 줄을 바꿔주기 위해 출력해줍니다.\n",
    "    print()"
   ]
  }
 ],
 "metadata": {
  "kernelspec": {
   "display_name": "Python 3 (ipykernel)",
   "language": "python",
   "name": "python3"
  },
  "language_info": {
   "codemirror_mode": {
    "name": "ipython",
    "version": 3
   },
   "file_extension": ".py",
   "mimetype": "text/x-python",
   "name": "python",
   "nbconvert_exporter": "python",
   "pygments_lexer": "ipython3",
   "version": "3.9.9"
  },
  "toc": {
   "base_numbering": 1,
   "nav_menu": {},
   "number_sections": true,
   "sideBar": true,
   "skip_h1_title": false,
   "title_cell": "Table of Contents",
   "title_sidebar": "Contents",
   "toc_cell": false,
   "toc_position": {},
   "toc_section_display": true,
   "toc_window_display": false
  }
 },
 "nbformat": 4,
 "nbformat_minor": 5
}
