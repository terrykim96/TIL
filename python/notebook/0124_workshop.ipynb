{
 "cells": [
  {
   "cell_type": "markdown",
   "id": "d93143de",
   "metadata": {},
   "source": [
    "# 평균 점수 구하기\n",
    "key 값으로 과목명, value 값으로 점수를 가지는 dictionary를 전달 받아, 전체 과목의 평균 점수를 반환하는 함수 get_dict_avg 함수를 작성하시오."
   ]
  },
  {
   "cell_type": "code",
   "execution_count": 1,
   "id": "2413d092",
   "metadata": {
    "ExecuteTime": {
     "end_time": "2022-01-24T04:48:39.328065Z",
     "start_time": "2022-01-24T04:48:39.315099Z"
    }
   },
   "outputs": [
    {
     "data": {
      "text/plain": [
       "85.5"
      ]
     },
     "execution_count": 1,
     "metadata": {},
     "output_type": "execute_result"
    }
   ],
   "source": [
    "def get_dict_avg(dictionary):\n",
    "    total = 0\n",
    "    avg = 0\n",
    "    for score in dictionary.values():\n",
    "        total += score\n",
    "    avg = total / len(dictionary)\n",
    "    return avg\n",
    "\n",
    "get_dict_avg({'p': 80, 'a': 90, 'd': 89, 'w': 83})"
   ]
  },
  {
   "cell_type": "markdown",
   "id": "54365505",
   "metadata": {},
   "source": [
    "# 혈액형 분류하기\n",
    "여러 사람의 혈액형(A, B, AB, O)에 대한 정보가 담긴 list를 전달 받아, key는 혈액형의 종류, value는 사람 수인 dictionary를 반환하는 count_blood 함수를 작성하시오."
   ]
  },
  {
   "cell_type": "code",
   "execution_count": 4,
   "id": "2e485799",
   "metadata": {
    "ExecuteTime": {
     "end_time": "2022-01-24T04:58:16.806311Z",
     "start_time": "2022-01-24T04:58:16.786361Z"
    }
   },
   "outputs": [
    {
     "data": {
      "text/plain": [
       "{'A': 3, 'B': 3, 'O': 3, 'AB': 3}"
      ]
     },
     "execution_count": 4,
     "metadata": {},
     "output_type": "execute_result"
    }
   ],
   "source": [
    "def count_blood(blood_list):\n",
    "    blood_type =  ['A', 'B', 'O', 'AB']\n",
    "    ans_dict ={'A': 0, 'B': 0, 'O': 0, 'AB': 0}\n",
    "    for blood in blood_list:\n",
    "        if blood in blood_type:\n",
    "            ans_dict[str(blood)] += 1\n",
    "    return ans_dict\n",
    "\n",
    "count_blood(['A', 'B', 'A', 'O', 'AB', 'AB', 'O', 'A', 'B', 'O', 'B', 'AB'])"
   ]
  }
 ],
 "metadata": {
  "kernelspec": {
   "display_name": "Python 3 (ipykernel)",
   "language": "python",
   "name": "python3"
  },
  "language_info": {
   "codemirror_mode": {
    "name": "ipython",
    "version": 3
   },
   "file_extension": ".py",
   "mimetype": "text/x-python",
   "name": "python",
   "nbconvert_exporter": "python",
   "pygments_lexer": "ipython3",
   "version": "3.9.9"
  },
  "toc": {
   "base_numbering": 1,
   "nav_menu": {},
   "number_sections": true,
   "sideBar": true,
   "skip_h1_title": false,
   "title_cell": "Table of Contents",
   "title_sidebar": "Contents",
   "toc_cell": false,
   "toc_position": {},
   "toc_section_display": true,
   "toc_window_display": false
  }
 },
 "nbformat": 4,
 "nbformat_minor": 5
}
