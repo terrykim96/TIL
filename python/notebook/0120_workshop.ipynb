{
 "cells": [
  {
   "cell_type": "markdown",
   "id": "d4c89600",
   "metadata": {},
   "source": [
    "# 숫자의 의미\n",
    "정수로 이루어진 list를 전달 받아, 각 정수에 대응되는 아스키 문자를 이어붙인 문자열을 반환하는 get_secret_word 함수를 작성하시오. 단, list는 65이상 90이하 그리고 97이상 122이하의 정수로만 구성되어 있다."
   ]
  },
  {
   "cell_type": "code",
   "execution_count": 3,
   "id": "37f970d7",
   "metadata": {
    "ExecuteTime": {
     "end_time": "2022-01-20T05:39:59.336848Z",
     "start_time": "2022-01-20T05:39:59.324861Z"
    }
   },
   "outputs": [],
   "source": [
    "def get_secret_word(num_list):\n",
    "    ans = ''\n",
    "    for num in num_list:\n",
    "        ans += chr(num)\n",
    "    return(ans)"
   ]
  },
  {
   "cell_type": "code",
   "execution_count": 4,
   "id": "407a4b16",
   "metadata": {
    "ExecuteTime": {
     "end_time": "2022-01-20T05:40:01.016351Z",
     "start_time": "2022-01-20T05:40:00.997378Z"
    }
   },
   "outputs": [
    {
     "data": {
      "text/plain": [
       "'SsAfY'"
      ]
     },
     "execution_count": 4,
     "metadata": {},
     "output_type": "execute_result"
    }
   ],
   "source": [
    "get_secret_word([83, 115, 65, 102, 89])"
   ]
  },
  {
   "cell_type": "markdown",
   "id": "dd48b3e0",
   "metadata": {},
   "source": [
    "# 내 이름은 몇일까?\n",
    "문자열을 전달 받아 해당 문자열의 각 문자에 대응되는 아스키 숫자들의 합을 반환하는\n",
    "get_secret_number 함수를 작성하시오. 단, 문자열은 A~Z, a~z로만 구성되어 있다."
   ]
  },
  {
   "cell_type": "code",
   "execution_count": 5,
   "id": "186a3ab8",
   "metadata": {
    "ExecuteTime": {
     "end_time": "2022-01-20T05:41:19.541409Z",
     "start_time": "2022-01-20T05:41:19.531435Z"
    }
   },
   "outputs": [],
   "source": [
    "def get_secret_number(name):\n",
    "    ans = 0\n",
    "    for string in name:\n",
    "        ans += ord(string)\n",
    "    return(ans)"
   ]
  },
  {
   "cell_type": "code",
   "execution_count": 6,
   "id": "709cf03c",
   "metadata": {
    "ExecuteTime": {
     "end_time": "2022-01-20T05:41:28.618669Z",
     "start_time": "2022-01-20T05:41:28.614679Z"
    }
   },
   "outputs": [
    {
     "data": {
      "text/plain": [
       "336"
      ]
     },
     "execution_count": 6,
     "metadata": {},
     "output_type": "execute_result"
    }
   ],
   "source": [
    "get_secret_number('tom')"
   ]
  },
  {
   "cell_type": "markdown",
   "id": "89baf836",
   "metadata": {},
   "source": [
    "# 강한 이름\n",
    "문자열 2개를 전달 받아 두 문자열의 각 문자에 대응되는 아스키 숫자들의 합을 비교하여 더 큰 합을 가진 문자열을 반환하는 get_strong_word 함수를 작성하시오."
   ]
  },
  {
   "cell_type": "code",
   "execution_count": 13,
   "id": "9b4e3a4e",
   "metadata": {
    "ExecuteTime": {
     "end_time": "2022-01-20T05:45:06.985156Z",
     "start_time": "2022-01-20T05:45:06.975202Z"
    }
   },
   "outputs": [],
   "source": [
    "def get_strong_word(name_a, name_b):\n",
    "    ans_a = 0\n",
    "    ans_b = 0\n",
    "    for string_a in name_a:\n",
    "        ans_a += ord(string_a)\n",
    "    for string_b in name_b:\n",
    "        ans_b += ord(string_b)\n",
    "    if ans_a > ans_b:\n",
    "        return(name_a)\n",
    "    return(name_b)"
   ]
  },
  {
   "cell_type": "code",
   "execution_count": 14,
   "id": "07524817",
   "metadata": {
    "ExecuteTime": {
     "end_time": "2022-01-20T05:45:10.615999Z",
     "start_time": "2022-01-20T05:45:10.611013Z"
    }
   },
   "outputs": [
    {
     "name": "stdout",
     "output_type": "stream",
     "text": [
      "z\n",
      "john\n"
     ]
    }
   ],
   "source": [
    "print(get_strong_word('z', 'a'))\n",
    "print(get_strong_word('tom', 'john'))"
   ]
  }
 ],
 "metadata": {
  "kernelspec": {
   "display_name": "Python 3 (ipykernel)",
   "language": "python",
   "name": "python3"
  },
  "language_info": {
   "codemirror_mode": {
    "name": "ipython",
    "version": 3
   },
   "file_extension": ".py",
   "mimetype": "text/x-python",
   "name": "python",
   "nbconvert_exporter": "python",
   "pygments_lexer": "ipython3",
   "version": "3.9.9"
  },
  "toc": {
   "base_numbering": 1,
   "nav_menu": {},
   "number_sections": true,
   "sideBar": true,
   "skip_h1_title": false,
   "title_cell": "Table of Contents",
   "title_sidebar": "Contents",
   "toc_cell": false,
   "toc_position": {},
   "toc_section_display": true,
   "toc_window_display": false
  }
 },
 "nbformat": 4,
 "nbformat_minor": 5
}
