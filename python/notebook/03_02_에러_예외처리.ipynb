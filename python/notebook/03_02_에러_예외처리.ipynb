{
 "cells": [
  {
   "cell_type": "markdown",
   "metadata": {},
   "source": [
    "<p style=\"font-size: 33px; font-weight: 700; margin-bottom: 3rem\">에러 & 예외 처리</p>\n",
    "\n",
    "- 에러(Error)\n",
    "- 예외 처리(Exception Handling)\n",
    "\n",
    "[파이썬 문서](https://docs.python.org/ko/3/library/exceptions.html#exception-hierarchy)\n"
   ]
  },
  {
   "cell_type": "markdown",
   "metadata": {},
   "source": [
    "# 에러(Error)\n",
    "발생할 수 있는 에러의 종류를 확인해봅시다."
   ]
  },
  {
   "cell_type": "markdown",
   "metadata": {},
   "source": [
    "## 문법 에러(Syntax Error)\n",
    "\n",
    "> 문법 에러가 있는 프로그램은 실행되지 않습니다.\n",
    "\n",
    "* 에러 발생 시 `SyntaxError`라는 키워드와 함께, 에러의 상세 내용을 보여줍니다.\n",
    "\n",
    "\n",
    "* `파일이름`과 `줄번호`, `^` 문자를 통해 파이썬이 코드를 읽어 들일 때(`parser`) 문제가 발생한 위치를 표현합니다.\n",
    "\n",
    "\n",
    "* `parser` 는 줄에서 에러가 감지된 가장 앞의 위치를 가리키는 캐럿(caret)기호(`^`)를 표시합니다."
   ]
  },
  {
   "cell_type": "code",
   "execution_count": 1,
   "metadata": {
    "ExecuteTime": {
     "end_time": "2022-01-25T00:34:51.777260Z",
     "start_time": "2022-01-25T00:34:51.767288Z"
    }
   },
   "outputs": [
    {
     "ename": "SyntaxError",
     "evalue": "invalid syntax (1531501122.py, line 8)",
     "output_type": "error",
     "traceback": [
      "\u001b[1;36m  Input \u001b[1;32mIn [1]\u001b[1;36m\u001b[0m\n\u001b[1;33m    else\u001b[0m\n\u001b[1;37m        ^\u001b[0m\n\u001b[1;31mSyntaxError\u001b[0m\u001b[1;31m:\u001b[0m invalid syntax\n"
     ]
    }
   ],
   "source": [
    "# 조건문을 통해 문법 에러를 발생시켜봅시다.\n",
    "\n",
    "# 다음 코드는 else 문 뒤에 콜론이 누락되어 있습니다.\n",
    "# 코드를 실행시켜보고 invalid syntax 오류를 확인해 봅시다.\n",
    "\n",
    "if True:\n",
    "    print('참')\n",
    "else\n",
    "    print('거짓')"
   ]
  },
  {
   "cell_type": "code",
   "execution_count": 2,
   "metadata": {
    "ExecuteTime": {
     "end_time": "2022-01-25T00:34:55.138175Z",
     "start_time": "2022-01-25T00:34:55.120224Z"
    }
   },
   "outputs": [
    {
     "ename": "SyntaxError",
     "evalue": "EOL while scanning string literal (1021181028.py, line 6)",
     "output_type": "error",
     "traceback": [
      "\u001b[1;36m  Input \u001b[1;32mIn [2]\u001b[1;36m\u001b[0m\n\u001b[1;33m    print('hi)\u001b[0m\n\u001b[1;37m              ^\u001b[0m\n\u001b[1;31mSyntaxError\u001b[0m\u001b[1;31m:\u001b[0m EOL while scanning string literal\n"
     ]
    }
   ],
   "source": [
    "# print 문을 통해 다른 오류를 발생시켜봅시다.\n",
    "\n",
    "# 다음 코드는 닫는 따옴표가 누락되어 있습니다.\n",
    "# 코드를 실행시켜보고 EOL 오류(따옴표 오류)를 확인해 봅시다.\n",
    "\n",
    "print('hi)"
   ]
  },
  {
   "cell_type": "code",
   "execution_count": 3,
   "metadata": {
    "ExecuteTime": {
     "end_time": "2022-01-25T00:34:56.712956Z",
     "start_time": "2022-01-25T00:34:56.703982Z"
    }
   },
   "outputs": [
    {
     "ename": "SyntaxError",
     "evalue": "unexpected EOF while parsing (3437886184.py, line 3)",
     "output_type": "error",
     "traceback": [
      "\u001b[1;36m  Input \u001b[1;32mIn [3]\u001b[1;36m\u001b[0m\n\u001b[1;33m    print('hi'\u001b[0m\n\u001b[1;37m              ^\u001b[0m\n\u001b[1;31mSyntaxError\u001b[0m\u001b[1;31m:\u001b[0m unexpected EOF while parsing\n"
     ]
    }
   ],
   "source": [
    "# 코드를 실행시켜보고 EOF 에러(괄호 닫기 오류)를 확인해 봅시다.\n",
    "\n",
    "print('hi'"
   ]
  },
  {
   "cell_type": "code",
   "execution_count": 4,
   "metadata": {
    "ExecuteTime": {
     "end_time": "2022-01-25T00:34:58.556667Z",
     "start_time": "2022-01-25T00:34:58.547667Z"
    }
   },
   "outputs": [
    {
     "ename": "SyntaxError",
     "evalue": "invalid syntax (1078459769.py, line 6)",
     "output_type": "error",
     "traceback": [
      "\u001b[1;36m  Input \u001b[1;32mIn [4]\u001b[1;36m\u001b[0m\n\u001b[1;33m    if True print('참')\u001b[0m\n\u001b[1;37m            ^\u001b[0m\n\u001b[1;31mSyntaxError\u001b[0m\u001b[1;31m:\u001b[0m invalid syntax\n"
     ]
    }
   ],
   "source": [
    "# 정확한 에러 위치를 지정하지 않을 수도 있습니다.\n",
    "\n",
    "# 다음 코드의 조건문에는 콜론이 누락되어 있습니다.\n",
    "# 코드를 실행시켜보고 문법 오류를 확인해 봅시다.\n",
    "\n",
    "if True print('참')"
   ]
  },
  {
   "cell_type": "markdown",
   "metadata": {},
   "source": [
    "## 예외(Exception)\n",
    "\n",
    "> 실행 도중 예상하지 못한 상황(exception)을 맞이하면, 프로그램 실행을 멈춥니다.\n",
    "\n",
    "* 문법적으로는 옳지만, 실행 시 발생하는 에러입니다.\n",
    "\n",
    "\n",
    "* *아래 제시된 모든 에러는 `Exception`을 상속받아 이뤄집니다.*"
   ]
  },
  {
   "cell_type": "markdown",
   "metadata": {},
   "source": [
    "`ZeroDivisionError`\n",
    "- 파이썬에서는 어떤 수를 0으로 나누게 되면 에러가 발생합니다."
   ]
  },
  {
   "cell_type": "code",
   "execution_count": 5,
   "metadata": {
    "ExecuteTime": {
     "end_time": "2022-01-25T00:35:14.543098Z",
     "start_time": "2022-01-25T00:35:14.161124Z"
    }
   },
   "outputs": [
    {
     "ename": "ZeroDivisionError",
     "evalue": "division by zero",
     "output_type": "error",
     "traceback": [
      "\u001b[1;31m---------------------------------------------------------------------------\u001b[0m",
      "\u001b[1;31mZeroDivisionError\u001b[0m                         Traceback (most recent call last)",
      "Input \u001b[1;32mIn [5]\u001b[0m, in \u001b[0;36m<module>\u001b[1;34m\u001b[0m\n\u001b[0;32m      1\u001b[0m \u001b[38;5;66;03m# 어떤 수를 0으로 나누는 코드를 작성해 보고 오류를 확인해 봅시다.\u001b[39;00m\n\u001b[1;32m----> 3\u001b[0m \u001b[38;5;28mprint\u001b[39m(\u001b[38;5;241;43m3\u001b[39;49m\u001b[43m \u001b[49m\u001b[38;5;241;43m/\u001b[39;49m\u001b[43m \u001b[49m\u001b[38;5;241;43m0\u001b[39;49m)\n",
      "\u001b[1;31mZeroDivisionError\u001b[0m: division by zero"
     ]
    }
   ],
   "source": [
    "# 어떤 수를 0으로 나누는 코드를 작성해 보고 오류를 확인해 봅시다.\n",
    "\n",
    "print(3 / 0)"
   ]
  },
  {
   "cell_type": "markdown",
   "metadata": {},
   "source": [
    "`NameError`\n",
    "- 지역 혹은 전역 이름 공간 내에서 유효하지 않는 이름은 사용할 수 없습니다. <br>즉, 어느 곳에서도 정의되지 않은 변수를 호출하였을 경우 에러가 발생합니다."
   ]
  },
  {
   "cell_type": "code",
   "execution_count": 6,
   "metadata": {
    "ExecuteTime": {
     "end_time": "2022-01-25T00:35:20.563542Z",
     "start_time": "2022-01-25T00:35:20.546588Z"
    }
   },
   "outputs": [
    {
     "ename": "NameError",
     "evalue": "name 'abc' is not defined",
     "output_type": "error",
     "traceback": [
      "\u001b[1;31m---------------------------------------------------------------------------\u001b[0m",
      "\u001b[1;31mNameError\u001b[0m                                 Traceback (most recent call last)",
      "Input \u001b[1;32mIn [6]\u001b[0m, in \u001b[0;36m<module>\u001b[1;34m\u001b[0m\n\u001b[0;32m      1\u001b[0m \u001b[38;5;66;03m# abc라는 변수를 print로 출력해 보고 오류를 확인해 봅시다.\u001b[39;00m\n\u001b[1;32m----> 3\u001b[0m \u001b[38;5;28mprint\u001b[39m(\u001b[43mabc\u001b[49m)\n",
      "\u001b[1;31mNameError\u001b[0m: name 'abc' is not defined"
     ]
    }
   ],
   "source": [
    "# abc라는 변수를 print로 출력해 보고 오류를 확인해 봅시다.\n",
    "\n",
    "print(abc)"
   ]
  },
  {
   "cell_type": "markdown",
   "metadata": {},
   "source": [
    "`TypeError`\n",
    "- 자료형이 올바르지 못한 경우"
   ]
  },
  {
   "cell_type": "code",
   "execution_count": 7,
   "metadata": {
    "ExecuteTime": {
     "end_time": "2022-01-25T00:35:31.620553Z",
     "start_time": "2022-01-25T00:35:31.550740Z"
    }
   },
   "outputs": [
    {
     "ename": "TypeError",
     "evalue": "unsupported operand type(s) for +: 'int' and 'str'",
     "output_type": "error",
     "traceback": [
      "\u001b[1;31m---------------------------------------------------------------------------\u001b[0m",
      "\u001b[1;31mTypeError\u001b[0m                                 Traceback (most recent call last)",
      "Input \u001b[1;32mIn [7]\u001b[0m, in \u001b[0;36m<module>\u001b[1;34m\u001b[0m\n\u001b[0;32m      1\u001b[0m \u001b[38;5;66;03m# 숫자 1과 문자 1을 더하는 코드를 작성해 보고 오류를 확인해 봅시다.\u001b[39;00m\n\u001b[1;32m----> 3\u001b[0m \u001b[38;5;28mprint\u001b[39m(\u001b[38;5;241;43m1\u001b[39;49m\u001b[38;5;241;43m+\u001b[39;49m\u001b[38;5;124;43m'\u001b[39;49m\u001b[38;5;124;43m1\u001b[39;49m\u001b[38;5;124;43m'\u001b[39;49m)\n",
      "\u001b[1;31mTypeError\u001b[0m: unsupported operand type(s) for +: 'int' and 'str'"
     ]
    }
   ],
   "source": [
    "# 숫자 1과 문자 1을 더하는 코드를 작성해 보고 오류를 확인해 봅시다.\n",
    "\n",
    "print(1+'1')"
   ]
  },
  {
   "cell_type": "code",
   "execution_count": 8,
   "metadata": {
    "ExecuteTime": {
     "end_time": "2022-01-25T02:06:50.305726Z",
     "start_time": "2022-01-25T02:06:50.278798Z"
    }
   },
   "outputs": [
    {
     "ename": "TypeError",
     "evalue": "type str doesn't define __round__ method",
     "output_type": "error",
     "traceback": [
      "\u001b[1;31m---------------------------------------------------------------------------\u001b[0m",
      "\u001b[1;31mTypeError\u001b[0m                                 Traceback (most recent call last)",
      "Input \u001b[1;32mIn [8]\u001b[0m, in \u001b[0;36m<module>\u001b[1;34m\u001b[0m\n\u001b[0;32m      1\u001b[0m \u001b[38;5;66;03m# round 함수는 어떤 수를 반올림해 주는 내장 함수입니다.\u001b[39;00m\n\u001b[0;32m      2\u001b[0m \u001b[38;5;66;03m# round 함수에 숫자가 아닌 문자를 넣어보고 발생하는 오류를 확인해 봅시다.\u001b[39;00m\n\u001b[1;32m----> 4\u001b[0m \u001b[38;5;28;43mround\u001b[39;49m\u001b[43m(\u001b[49m\u001b[38;5;124;43m'\u001b[39;49m\u001b[38;5;124;43m2\u001b[39;49m\u001b[38;5;124;43m'\u001b[39;49m\u001b[43m)\u001b[49m\n",
      "\u001b[1;31mTypeError\u001b[0m: type str doesn't define __round__ method"
     ]
    }
   ],
   "source": [
    "# round 함수는 어떤 수를 반올림해 주는 내장 함수입니다.\n",
    "# round 함수에 숫자가 아닌 문자를 넣어보고 발생하는 오류를 확인해 봅시다.\n",
    "\n",
    "round('2')"
   ]
  },
  {
   "cell_type": "markdown",
   "metadata": {},
   "source": [
    "- 함수 호출 과정에서 필수 매개변수가 누락된 경우"
   ]
  },
  {
   "cell_type": "code",
   "execution_count": 28,
   "metadata": {
    "ExecuteTime": {
     "end_time": "2022-01-25T02:22:12.989241Z",
     "start_time": "2022-01-25T02:22:12.969295Z"
    }
   },
   "outputs": [
    {
     "ename": "TypeError",
     "evalue": "sample() missing 1 required positional argument: 'k'",
     "output_type": "error",
     "traceback": [
      "\u001b[1;31m---------------------------------------------------------------------------\u001b[0m",
      "\u001b[1;31mTypeError\u001b[0m                                 Traceback (most recent call last)",
      "Input \u001b[1;32mIn [28]\u001b[0m, in \u001b[0;36m<module>\u001b[1;34m\u001b[0m\n\u001b[0;32m      1\u001b[0m \u001b[38;5;66;03m# 내장 random 모듈을 불러오세요.\u001b[39;00m\n\u001b[0;32m      2\u001b[0m \u001b[38;5;66;03m# random.sample() 함수는 2개의 매개변수를 받도록 정의되어 있습니다.\u001b[39;00m\n\u001b[0;32m      3\u001b[0m \u001b[38;5;66;03m# random.sample() 함수에 숫자 3개가 담긴 리스트만 넣고 호출해 보세요.\u001b[39;00m\n\u001b[0;32m      4\u001b[0m \u001b[38;5;66;03m# 그리고 매개변수가 누락되어 발생하는 오류를 확인해 봅시다.\u001b[39;00m\n\u001b[0;32m      6\u001b[0m \u001b[38;5;28;01mimport\u001b[39;00m \u001b[38;5;21;01mrandom\u001b[39;00m\n\u001b[1;32m----> 8\u001b[0m \u001b[43mrandom\u001b[49m\u001b[38;5;241;43m.\u001b[39;49m\u001b[43msample\u001b[49m\u001b[43m(\u001b[49m\u001b[43m[\u001b[49m\u001b[38;5;241;43m1\u001b[39;49m\u001b[43m,\u001b[49m\u001b[43m \u001b[49m\u001b[38;5;241;43m2\u001b[39;49m\u001b[43m,\u001b[49m\u001b[43m \u001b[49m\u001b[38;5;241;43m3\u001b[39;49m\u001b[43m]\u001b[49m\u001b[43m)\u001b[49m\n",
      "\u001b[1;31mTypeError\u001b[0m: sample() missing 1 required positional argument: 'k'"
     ]
    }
   ],
   "source": [
    "# 내장 random 모듈을 불러오세요.\n",
    "# random.sample() 함수는 2개의 매개변수를 받도록 정의되어 있습니다.\n",
    "# random.sample() 함수에 숫자 3개가 담긴 리스트만 넣고 호출해 보세요.\n",
    "# 그리고 매개변수가 누락되어 발생하는 오류를 확인해 봅시다.\n",
    "\n",
    "import random\n",
    "\n",
    "random.sample([1, 2, 3])"
   ]
  },
  {
   "cell_type": "markdown",
   "metadata": {},
   "source": [
    "- 함수 호출 과정에서 매개변수 개수가 초과해서 들어온 경우"
   ]
  },
  {
   "cell_type": "code",
   "execution_count": 29,
   "metadata": {
    "ExecuteTime": {
     "end_time": "2022-01-25T02:22:30.271928Z",
     "start_time": "2022-01-25T02:22:30.248967Z"
    }
   },
   "outputs": [
    {
     "ename": "TypeError",
     "evalue": "choice() takes 2 positional arguments but 3 were given",
     "output_type": "error",
     "traceback": [
      "\u001b[1;31m---------------------------------------------------------------------------\u001b[0m",
      "\u001b[1;31mTypeError\u001b[0m                                 Traceback (most recent call last)",
      "Input \u001b[1;32mIn [29]\u001b[0m, in \u001b[0;36m<module>\u001b[1;34m\u001b[0m\n\u001b[0;32m      1\u001b[0m \u001b[38;5;66;03m# random.choice() 함수는 하나의 매개 변수만 받도록 정의되어 있습니다.\u001b[39;00m\n\u001b[0;32m      2\u001b[0m \u001b[38;5;66;03m# 숫자 3개가 담긴 리스트와, 숫자 6을 넣고 호출해 보세요.\u001b[39;00m\n\u001b[0;32m      3\u001b[0m \u001b[38;5;66;03m# 그리고 매개변수가 초가 되어 발생하는 오류를 확인해 봅시다.\u001b[39;00m\n\u001b[1;32m----> 5\u001b[0m \u001b[43mrandom\u001b[49m\u001b[38;5;241;43m.\u001b[39;49m\u001b[43mchoice\u001b[49m\u001b[43m(\u001b[49m\u001b[43m[\u001b[49m\u001b[38;5;241;43m1\u001b[39;49m\u001b[43m,\u001b[49m\u001b[43m \u001b[49m\u001b[38;5;241;43m2\u001b[39;49m\u001b[43m,\u001b[49m\u001b[43m \u001b[49m\u001b[38;5;241;43m3\u001b[39;49m\u001b[43m]\u001b[49m\u001b[43m,\u001b[49m\u001b[43m \u001b[49m\u001b[38;5;241;43m6\u001b[39;49m\u001b[43m)\u001b[49m\n",
      "\u001b[1;31mTypeError\u001b[0m: choice() takes 2 positional arguments but 3 were given"
     ]
    }
   ],
   "source": [
    "# random.choice() 함수는 하나의 매개 변수만 받도록 정의되어 있습니다.\n",
    "# 숫자 3개가 담긴 리스트와, 숫자 6을 넣고 호출해 보세요.\n",
    "# 그리고 매개변수가 초가 되어 발생하는 오류를 확인해 봅시다.\n",
    "\n",
    "random.choice([1, 2, 3], 6)"
   ]
  },
  {
   "cell_type": "markdown",
   "metadata": {},
   "source": [
    "`ValueError`\n",
    "- 자료형은 올바르나 값이 적절하지 않은 경우"
   ]
  },
  {
   "cell_type": "code",
   "execution_count": 30,
   "metadata": {
    "ExecuteTime": {
     "end_time": "2022-01-25T02:22:36.315812Z",
     "start_time": "2022-01-25T02:22:36.295865Z"
    }
   },
   "outputs": [
    {
     "ename": "ValueError",
     "evalue": "invalid literal for int() with base 10: '3.5'",
     "output_type": "error",
     "traceback": [
      "\u001b[1;31m---------------------------------------------------------------------------\u001b[0m",
      "\u001b[1;31mValueError\u001b[0m                                Traceback (most recent call last)",
      "Input \u001b[1;32mIn [30]\u001b[0m, in \u001b[0;36m<module>\u001b[1;34m\u001b[0m\n\u001b[0;32m      1\u001b[0m \u001b[38;5;66;03m# int()는 정수가 아닌 값을 받았을 경우 에러가 발생합니다.\u001b[39;00m\n\u001b[0;32m      2\u001b[0m \u001b[38;5;66;03m# int() 안에 문자 3.5를 넣고 호출한 뒤 발생하는 오류를 확인해 봅시다.\u001b[39;00m\n\u001b[1;32m----> 4\u001b[0m \u001b[38;5;28;43mint\u001b[39;49m\u001b[43m(\u001b[49m\u001b[38;5;124;43m'\u001b[39;49m\u001b[38;5;124;43m3.5\u001b[39;49m\u001b[38;5;124;43m'\u001b[39;49m\u001b[43m)\u001b[49m\n",
      "\u001b[1;31mValueError\u001b[0m: invalid literal for int() with base 10: '3.5'"
     ]
    }
   ],
   "source": [
    "# int()는 정수가 아닌 값을 받았을 경우 에러가 발생합니다.\n",
    "# int() 안에 문자 3.5를 넣고 호출한 뒤 발생하는 오류를 확인해 봅시다.\n",
    "\n",
    "int('3.5')"
   ]
  },
  {
   "cell_type": "markdown",
   "metadata": {},
   "source": [
    "- 존재하지 않는 값을 찾고자 할 경우"
   ]
  },
  {
   "cell_type": "code",
   "execution_count": 31,
   "metadata": {
    "ExecuteTime": {
     "end_time": "2022-01-25T02:22:38.851452Z",
     "start_time": "2022-01-25T02:22:38.836491Z"
    }
   },
   "outputs": [
    {
     "ename": "ValueError",
     "evalue": "3 is not in list",
     "output_type": "error",
     "traceback": [
      "\u001b[1;31m---------------------------------------------------------------------------\u001b[0m",
      "\u001b[1;31mValueError\u001b[0m                                Traceback (most recent call last)",
      "Input \u001b[1;32mIn [31]\u001b[0m, in \u001b[0;36m<module>\u001b[1;34m\u001b[0m\n\u001b[0;32m      1\u001b[0m \u001b[38;5;66;03m# index()는 리스트에서 찾고자 하는 값의 인덱스를 반환합니다.\u001b[39;00m\n\u001b[0;32m      2\u001b[0m \u001b[38;5;66;03m# numbers 리스트에 없는 값인 3을 찾게 되면 에러가 발생합니다.\u001b[39;00m\n\u001b[0;32m      3\u001b[0m \u001b[38;5;66;03m# 코드를 실행시킨 뒤 발생하는 오류를 확인해 봅시다.\u001b[39;00m\n\u001b[0;32m      5\u001b[0m numbers \u001b[38;5;241m=\u001b[39m [\u001b[38;5;241m1\u001b[39m, \u001b[38;5;241m2\u001b[39m]\n\u001b[1;32m----> 6\u001b[0m \u001b[43mnumbers\u001b[49m\u001b[38;5;241;43m.\u001b[39;49m\u001b[43mindex\u001b[49m\u001b[43m(\u001b[49m\u001b[38;5;241;43m3\u001b[39;49m\u001b[43m)\u001b[49m\n",
      "\u001b[1;31mValueError\u001b[0m: 3 is not in list"
     ]
    }
   ],
   "source": [
    "# index()는 리스트에서 찾고자 하는 값의 인덱스를 반환합니다.\n",
    "# numbers 리스트에 없는 값인 3을 찾게 되면 에러가 발생합니다.\n",
    "# 코드를 실행시킨 뒤 발생하는 오류를 확인해 봅시다.\n",
    "\n",
    "numbers = [1, 2]\n",
    "numbers.index(3)"
   ]
  },
  {
   "cell_type": "markdown",
   "metadata": {},
   "source": [
    "`IndexError`\n",
    "- 존재하지 않는 index로 조회할 경우"
   ]
  },
  {
   "cell_type": "code",
   "execution_count": 32,
   "metadata": {
    "ExecuteTime": {
     "end_time": "2022-01-25T02:22:40.563349Z",
     "start_time": "2022-01-25T02:22:40.546394Z"
    }
   },
   "outputs": [
    {
     "ename": "IndexError",
     "evalue": "list index out of range",
     "output_type": "error",
     "traceback": [
      "\u001b[1;31m---------------------------------------------------------------------------\u001b[0m",
      "\u001b[1;31mIndexError\u001b[0m                                Traceback (most recent call last)",
      "Input \u001b[1;32mIn [32]\u001b[0m, in \u001b[0;36m<module>\u001b[1;34m\u001b[0m\n\u001b[0;32m      1\u001b[0m \u001b[38;5;66;03m# 비어있는 리스트는 어떤 인덱스 값으로든 접근할 수 없습니다.\u001b[39;00m\n\u001b[0;32m      2\u001b[0m \u001b[38;5;66;03m# 코드를 실행시켜서 비어있는 empty_list를 -1 인덱스로 접근했을 때 발생하는 오류를 확인해 봅시다.\u001b[39;00m\n\u001b[0;32m      4\u001b[0m empty_list \u001b[38;5;241m=\u001b[39m []\n\u001b[1;32m----> 5\u001b[0m \u001b[43mempty_list\u001b[49m\u001b[43m[\u001b[49m\u001b[38;5;241;43m-\u001b[39;49m\u001b[38;5;241;43m1\u001b[39;49m\u001b[43m]\u001b[49m\n",
      "\u001b[1;31mIndexError\u001b[0m: list index out of range"
     ]
    }
   ],
   "source": [
    "# 비어있는 리스트는 어떤 인덱스 값으로든 접근할 수 없습니다.\n",
    "# 코드를 실행시켜서 비어있는 empty_list를 -1 인덱스로 접근했을 때 발생하는 오류를 확인해 봅시다.\n",
    "\n",
    "empty_list = []\n",
    "empty_list[-1]"
   ]
  },
  {
   "cell_type": "markdown",
   "metadata": {},
   "source": [
    "`KeyError`\n",
    "- 존재하지 않는 Key로 접근한 경우"
   ]
  },
  {
   "cell_type": "code",
   "execution_count": 33,
   "metadata": {
    "ExecuteTime": {
     "end_time": "2022-01-25T02:22:42.511881Z",
     "start_time": "2022-01-25T02:22:42.493930Z"
    }
   },
   "outputs": [
    {
     "ename": "KeyError",
     "evalue": "'queen'",
     "output_type": "error",
     "traceback": [
      "\u001b[1;31m---------------------------------------------------------------------------\u001b[0m",
      "\u001b[1;31mKeyError\u001b[0m                                  Traceback (most recent call last)",
      "Input \u001b[1;32mIn [33]\u001b[0m, in \u001b[0;36m<module>\u001b[1;34m\u001b[0m\n\u001b[0;32m      1\u001b[0m \u001b[38;5;66;03m# 아래 songs라는 딕셔너리에는 'sia'라는 Key만 존재하며,\u001b[39;00m\n\u001b[0;32m      2\u001b[0m \u001b[38;5;66;03m# 'queen'이라는 키는 존재하지 않습니다.\u001b[39;00m\n\u001b[0;32m      3\u001b[0m \u001b[38;5;66;03m# 코드를 실행시켜보고 발생하는 오류를 확인해 봅시다.\u001b[39;00m\n\u001b[0;32m      5\u001b[0m songs \u001b[38;5;241m=\u001b[39m {\u001b[38;5;124m'\u001b[39m\u001b[38;5;124msia\u001b[39m\u001b[38;5;124m'\u001b[39m: \u001b[38;5;124m'\u001b[39m\u001b[38;5;124mcandy cane lane\u001b[39m\u001b[38;5;124m'\u001b[39m}\n\u001b[1;32m----> 6\u001b[0m \u001b[43msongs\u001b[49m\u001b[43m[\u001b[49m\u001b[38;5;124;43m'\u001b[39;49m\u001b[38;5;124;43mqueen\u001b[39;49m\u001b[38;5;124;43m'\u001b[39;49m\u001b[43m]\u001b[49m\n",
      "\u001b[1;31mKeyError\u001b[0m: 'queen'"
     ]
    }
   ],
   "source": [
    "# 아래 songs라는 딕셔너리에는 'sia'라는 Key만 존재하며,\n",
    "# 'queen'이라는 키는 존재하지 않습니다.\n",
    "# 코드를 실행시켜보고 발생하는 오류를 확인해 봅시다.\n",
    "\n",
    "songs = {'sia': 'candy cane lane'}\n",
    "songs['queen']"
   ]
  },
  {
   "cell_type": "markdown",
   "metadata": {},
   "source": [
    "`ModuleNotFoundError`\n",
    "- 존재하지 않는 Module을 `import` 하는 경우"
   ]
  },
  {
   "cell_type": "code",
   "execution_count": 34,
   "metadata": {
    "ExecuteTime": {
     "end_time": "2022-01-25T02:22:51.425963Z",
     "start_time": "2022-01-25T02:22:51.405011Z"
    }
   },
   "outputs": [
    {
     "ename": "ModuleNotFoundError",
     "evalue": "No module named 'reque'",
     "output_type": "error",
     "traceback": [
      "\u001b[1;31m---------------------------------------------------------------------------\u001b[0m",
      "\u001b[1;31mModuleNotFoundError\u001b[0m                       Traceback (most recent call last)",
      "Input \u001b[1;32mIn [34]\u001b[0m, in \u001b[0;36m<module>\u001b[1;34m\u001b[0m\n\u001b[0;32m      1\u001b[0m \u001b[38;5;66;03m# 파이썬에 존재하지 않는 모듈인 \"reque\"라는 이름의 모듈을 불러와봅시다(import).\u001b[39;00m\n\u001b[0;32m      2\u001b[0m \u001b[38;5;66;03m# 그리고 발생하는 오류를 확인해 봅시다.\u001b[39;00m\n\u001b[1;32m----> 4\u001b[0m \u001b[38;5;28;01mimport\u001b[39;00m \u001b[38;5;21;01mreque\u001b[39;00m\n",
      "\u001b[1;31mModuleNotFoundError\u001b[0m: No module named 'reque'"
     ]
    }
   ],
   "source": [
    "# 파이썬에 존재하지 않는 모듈인 \"reque\"라는 이름의 모듈을 불러와봅시다(import).\n",
    "# 그리고 발생하는 오류를 확인해 봅시다.\n",
    "\n",
    "import reque"
   ]
  },
  {
   "cell_type": "markdown",
   "metadata": {},
   "source": [
    "`ImportError`\n",
    "- Module은 찾았으나 존재하지 않는 클래스/함수를 가져오는 경우"
   ]
  },
  {
   "cell_type": "code",
   "execution_count": 35,
   "metadata": {
    "ExecuteTime": {
     "end_time": "2022-01-25T02:23:03.829339Z",
     "start_time": "2022-01-25T02:23:03.806426Z"
    }
   },
   "outputs": [
    {
     "ename": "AttributeError",
     "evalue": "module 'random' has no attribute 'sampl'",
     "output_type": "error",
     "traceback": [
      "\u001b[1;31m---------------------------------------------------------------------------\u001b[0m",
      "\u001b[1;31mAttributeError\u001b[0m                            Traceback (most recent call last)",
      "Input \u001b[1;32mIn [35]\u001b[0m, in \u001b[0;36m<module>\u001b[1;34m\u001b[0m\n\u001b[0;32m      1\u001b[0m \u001b[38;5;66;03m# 파이썬 내장 random 모듈은 존재하나 그 안에 \"sampl\"이라는 함수는 존재하지 않습니다.\u001b[39;00m\n\u001b[0;32m      2\u001b[0m \u001b[38;5;66;03m# random 모듈을 불러와서 \"sampl\"이라는 함수를 불러와보고, 발생하는 오류를 확인해 봅시다.\u001b[39;00m\n\u001b[0;32m      5\u001b[0m \u001b[38;5;28;01mimport\u001b[39;00m \u001b[38;5;21;01mrandom\u001b[39;00m\n\u001b[1;32m----> 7\u001b[0m \u001b[43mrandom\u001b[49m\u001b[38;5;241;43m.\u001b[39;49m\u001b[43msampl\u001b[49m\n",
      "\u001b[1;31mAttributeError\u001b[0m: module 'random' has no attribute 'sampl'"
     ]
    }
   ],
   "source": [
    "# 파이썬 내장 random 모듈은 존재하나 그 안에 \"sampl\"이라는 함수는 존재하지 않습니다.\n",
    "# random 모듈을 불러와서 \"sampl\"이라는 함수를 불러와보고, 발생하는 오류를 확인해 봅시다.\n",
    "\n",
    "\n",
    "import random\n",
    "\n",
    "random.sampl"
   ]
  },
  {
   "cell_type": "markdown",
   "metadata": {},
   "source": [
    "`KeyboardInterrupt`\n",
    "- 사용자가 임의로 실행을 중단한 경우\n",
    "- 주피터 노트북에서는 정지 버튼이지만, 실제로 우리가 돌릴 때는 `ctrl`+`c`를 통해 종료하였을 때 발생합니다."
   ]
  },
  {
   "cell_type": "code",
   "execution_count": 38,
   "metadata": {
    "ExecuteTime": {
     "end_time": "2022-01-25T02:23:44.596556Z",
     "start_time": "2022-01-25T02:23:39.220285Z"
    }
   },
   "outputs": [
    {
     "ename": "KeyboardInterrupt",
     "evalue": "",
     "output_type": "error",
     "traceback": [
      "\u001b[1;31m---------------------------------------------------------------------------\u001b[0m",
      "\u001b[1;31mKeyboardInterrupt\u001b[0m                         Traceback (most recent call last)",
      "Input \u001b[1;32mIn [38]\u001b[0m, in \u001b[0;36m<module>\u001b[1;34m\u001b[0m\n\u001b[0;32m      1\u001b[0m \u001b[38;5;66;03m# 무한 반복되는 while 문을 실행시켜보고, 정지시켜보세요.\u001b[39;00m\n\u001b[0;32m      2\u001b[0m \u001b[38;5;66;03m# 그리고 발생하는 오류를 확인해 봅시다.\u001b[39;00m\n\u001b[0;32m      5\u001b[0m \u001b[38;5;28;01mwhile\u001b[39;00m \u001b[38;5;241m1\u001b[39m \u001b[38;5;241m>\u001b[39m \u001b[38;5;241m0\u001b[39m:\n\u001b[1;32m----> 6\u001b[0m     a \u001b[38;5;241m=\u001b[39m \u001b[38;5;241m1\u001b[39m\n",
      "\u001b[1;31mKeyboardInterrupt\u001b[0m: "
     ]
    }
   ],
   "source": [
    "# 무한 반복되는 while 문을 실행시켜보고, 정지시켜보세요.\n",
    "# 그리고 발생하는 오류를 확인해 봅시다.\n",
    "\n",
    "\n",
    "while 1 > 0:\n",
    "    a = 1"
   ]
  },
  {
   "cell_type": "markdown",
   "metadata": {},
   "source": [
    "`IndentationError`\n",
    "- Indentation(들여 쓰기)이 적절하지 않은 경우"
   ]
  },
  {
   "cell_type": "code",
   "execution_count": 39,
   "metadata": {
    "ExecuteTime": {
     "end_time": "2022-01-25T02:23:50.910003Z",
     "start_time": "2022-01-25T02:23:50.897050Z"
    }
   },
   "outputs": [
    {
     "ename": "IndentationError",
     "evalue": "expected an indented block (1048384304.py, line 4)",
     "output_type": "error",
     "traceback": [
      "\u001b[1;36m  Input \u001b[1;32mIn [39]\u001b[1;36m\u001b[0m\n\u001b[1;33m    print(i)\u001b[0m\n\u001b[1;37m    ^\u001b[0m\n\u001b[1;31mIndentationError\u001b[0m\u001b[1;31m:\u001b[0m expected an indented block\n"
     ]
    }
   ],
   "source": [
    "# 코드를 실행해서 발생하는 오류를 확인해 봅시다.\n",
    "\n",
    "for i in range(3):\n",
    "print(i)"
   ]
  },
  {
   "cell_type": "code",
   "execution_count": 40,
   "metadata": {
    "ExecuteTime": {
     "end_time": "2022-01-25T02:23:52.663575Z",
     "start_time": "2022-01-25T02:23:52.649612Z"
    }
   },
   "outputs": [
    {
     "ename": "IndentationError",
     "evalue": "unexpected indent (3510271558.py, line 5)",
     "output_type": "error",
     "traceback": [
      "\u001b[1;36m  Input \u001b[1;32mIn [40]\u001b[1;36m\u001b[0m\n\u001b[1;33m    print(i)\u001b[0m\n\u001b[1;37m    ^\u001b[0m\n\u001b[1;31mIndentationError\u001b[0m\u001b[1;31m:\u001b[0m unexpected indent\n"
     ]
    }
   ],
   "source": [
    "# 코드를 실행해서 발생하는 오류를 확인해 봅시다.\n",
    "\n",
    "for i in range(3):\n",
    "    print(i)\n",
    "        print(i)"
   ]
  },
  {
   "cell_type": "markdown",
   "metadata": {},
   "source": [
    "# 예외 처리(Exception Handling)\n",
    "\n",
    "## `try` & `except`\n",
    "`try`문과 `except`절을 사용하여 예외 처리를 할 수 있습니다.\n",
    "\n",
    "\n",
    "### 기초 문법\n",
    "\n",
    "```python\n",
    "try:\n",
    "    <코드 블록 1>\n",
    "except (예외):\n",
    "    <코드 블록 2>\n",
    "```\n",
    "\n",
    "* `try` 아래의 코드 블록(code block)이 실행됩니다.\n",
    "\n",
    "* 예외가 발생되지 않으면, **`except` 없이 실행이 종료됩니다.**\n",
    "\n",
    "* 예외가 발생하면, **남은 부분을 수행하지 않고**, `except`가 실행됩니다."
   ]
  },
  {
   "cell_type": "code",
   "execution_count": 41,
   "metadata": {
    "ExecuteTime": {
     "end_time": "2022-01-25T02:24:14.566536Z",
     "start_time": "2022-01-25T02:24:13.112943Z"
    }
   },
   "outputs": [
    {
     "name": "stdout",
     "output_type": "stream",
     "text": [
      "2\n",
      "2\n"
     ]
    }
   ],
   "source": [
    "# 사용자로부터 값을 받아 정수로 변환하여 출력해 봅시다.\n",
    "# input() 함수를 이용하여 사용자로부터 입력을 받은 뒤\n",
    "# 해당 값을 정수로 변환하여 출력해 보세요.\n",
    "\n",
    "a = int(input())\n",
    "\n",
    "print(a)"
   ]
  },
  {
   "cell_type": "code",
   "execution_count": 42,
   "metadata": {
    "ExecuteTime": {
     "end_time": "2022-01-25T02:25:01.548715Z",
     "start_time": "2022-01-25T02:25:00.264557Z"
    }
   },
   "outputs": [
    {
     "name": "stdout",
     "output_type": "stream",
     "text": [
      "ㅅ\n",
      "숫자를 입력하세요\n"
     ]
    }
   ],
   "source": [
    "# 위에서 배운 try-except 구문을 활용해 봅시다.\n",
    "# 사용자가 문자열을 넣어 해당 오류(ValueError)가 발생하면\n",
    "# 숫자를 입력하라고 출력해 봅시다.\n",
    "\n",
    "try:\n",
    "    a = int(input())\n",
    "    print(a)\n",
    "except ValueError:\n",
    "    print('숫자를 입력하세요')"
   ]
  },
  {
   "cell_type": "markdown",
   "metadata": {},
   "source": [
    "### 복수의 예외 처리\n",
    "\n",
    "하나 이상의 예외를 모두 처리할 수 있습니다.\n",
    "\n",
    "괄호가 있는 튜플로 여러 개의 예외를 지정할 수 있습니다.\n",
    "\n",
    "---\n",
    "\n",
    "**활용법**\n",
    "\n",
    "```python\n",
    "try:\n",
    "    <코드 블록 1>\n",
    "except (예외 1, 예외 2):\n",
    "    <코드 블록 2>\n",
    "\n",
    "try:\n",
    "    <코드 블록 1>\n",
    "except 예외 1:\n",
    "    <코드 블록 2>\n",
    "except 예외 2:\n",
    "    <코드 블록 3>\n",
    "```"
   ]
  },
  {
   "cell_type": "code",
   "execution_count": 10,
   "metadata": {
    "ExecuteTime": {
     "end_time": "2022-01-25T02:10:52.982192Z",
     "start_time": "2022-01-25T02:10:50.468905Z"
    }
   },
   "outputs": [
    {
     "name": "stdout",
     "output_type": "stream",
     "text": [
      "214ㄴ\n",
      "숫자만 입력해주세요\n"
     ]
    }
   ],
   "source": [
    "# 숫자 100을 사용자가 입력한 값으로 나눈 후 출력하는 코드를 작성해 봅시다.\n",
    "\n",
    "# input() 함수를 이용하여 사용자로부터 입력을 받으세요.\n",
    "# 해당 값을 정수로 변환한 뒤, 숫자 100을 입력받은 값으로 나누는 코드를 작성해 보세요.\n",
    "try:\n",
    "    num = int(input())\n",
    "    print(100/num)\n",
    "except ValueError:\n",
    "    print('숫자만 입력해주세요')"
   ]
  },
  {
   "cell_type": "code",
   "execution_count": null,
   "metadata": {},
   "outputs": [],
   "source": [
    "# 문자열일 때와 0일 때의 경우를 모두 처리를 해봅시다.\n",
    "\n",
    "# 어떤 값을 숫자가 아닌 값으로 나눌 때 발생하는 에러는 ValueError입니다.\n",
    "# 어떤 값을 0으로 나눌 때 발생하는 에러는 ZeroDivisionError입니다.\n",
    "# try-except 구문을 활용하여 위의 두 오류를 처리해 보세요.\n",
    "\n"
   ]
  },
  {
   "cell_type": "code",
   "execution_count": null,
   "metadata": {},
   "outputs": [],
   "source": [
    "# 각각 다른 오류를 출력할 수 있습니다.\n",
    "# 여러 개의 except 구문을 활용해 보세요.\n",
    "# (ValueError, ZeroDivisionError)\n",
    "\n"
   ]
  },
  {
   "cell_type": "markdown",
   "metadata": {},
   "source": [
    "- 중요! <br>**에러가 순차적으로 수행됨**으로, 가장 작은 범주부터 시작해야 합니다."
   ]
  },
  {
   "cell_type": "code",
   "execution_count": null,
   "metadata": {},
   "outputs": [],
   "source": [
    "# Exception은 가장 큰 범주의 에러로써 모든 에러를 처리할 수 있습니다.\n",
    "# 따라서 아래 코드는 숫자가 아닌 값을 넣었을 때 순차적으로 먼저 적힌 Exception 에러가 발생합니다.\n",
    "# 코드를 실행하고 결과를 확인해 봅시다.\n",
    "\n",
    "try:\n",
    "    num = input('값을 입력하시오: ')\n",
    "    100/int(num)\n",
    "except Exception: # Exception 은 가장 큰 범주\n",
    "    print('모르겠지만 에러야')\n",
    "except ValueError:\n",
    "    print('숫자를 넣어')"
   ]
  },
  {
   "cell_type": "markdown",
   "metadata": {},
   "source": [
    "### `else`\n",
    "\n",
    "* 에러가 발생하지 않는 경우 수행되는 문장은 `else`를 이용합니다.\n",
    "* 모든 `except` 절 뒤에 와야 합니다.\n",
    "* `try` 절이 예외를 일으키지 않을 때 실행되어야만 하는 코드에 적절합니다.\n",
    "---\n",
    "\n",
    "**활용법**\n",
    "\n",
    "```python\n",
    "try:\n",
    "    <코드 블럭 1>\n",
    "except 예외:\n",
    "    <코드 블럭 2>\n",
    "else:\n",
    "    <코드 블럭 3>\n",
    "```"
   ]
  },
  {
   "cell_type": "code",
   "execution_count": null,
   "metadata": {},
   "outputs": [],
   "source": [
    "# else를 사용해봅시다.\n",
    "\n",
    "# try 구문에서 numbers라는 이름의 리스트에 숫자 3개를 저장하세요.\n",
    "# 그리고 존재하지 않는 인덱스의 값을 가져와서 number 변수에 저장하세요.\n",
    "# (이 때, 존재하지 않는 인덱스를 참고하는 경우 IndexError가 발생하게 됩니다.)\n",
    "# except 구문에서 IndexError가 발생할 경우 '오류 발생'이라는 메세지를 출력하세요.\n",
    "# 마지막으로 else 구문을 활용하여 number * 100을 출력해보세요.\n",
    "\n"
   ]
  },
  {
   "cell_type": "markdown",
   "metadata": {},
   "source": [
    "### `finally` \n",
    "\n",
    "* 반드시 수행해야 하는 문장은 `finally`를 활용합니다.\n",
    "* 즉, 모든 상황에 실행되어야만 하는 코드를 정의하는데 활용합니다.\n",
    "* 예외의 발생 여부와 관계없이 `try` 문을 떠날 때 항상 실행합니다.\n",
    "\n",
    "---\n",
    "\n",
    "**활용법**\n",
    "\n",
    "```python\n",
    "try:\n",
    "    <코드 블럭 1>\n",
    "except 예외:\n",
    "    <코드 블럭 2>\n",
    "finally:\n",
    "    <코드 블럭 3>\n",
    "```"
   ]
  },
  {
   "cell_type": "code",
   "execution_count": null,
   "metadata": {},
   "outputs": [],
   "source": [
    "# finally를 사용해봅시다.\n",
    "# 다음 코드에서 finally 구문을 활용하여 '성적 파일을 종료합니다'라는 메세지를 출력해보세요.\n",
    "\n",
    "try:\n",
    "    print('성적 파일을 읽어옵니다.')\n",
    "    data = {'python': 'A+'}\n",
    "    data['java']\n",
    "except KeyError as err:\n",
    "    print(f'{err}는 딕셔너리에 없는 키입니다.')\n",
    "    \n",
    "\n"
   ]
  },
  {
   "cell_type": "markdown",
   "metadata": {},
   "source": [
    "### 에러 메시지 처리  `as`\n",
    "\n",
    "`as` 키워드를 활용하여 에러 메시지를 보여줄 수도 있습니다.\n",
    "\n",
    "---\n",
    "\n",
    "**활용법**\n",
    "\n",
    "```python\n",
    "try:\n",
    "    <코드 블럭 1>\n",
    "except 예외 as err:\n",
    "    <코드 블럭 2>\n",
    "```"
   ]
  },
  {
   "cell_type": "code",
   "execution_count": null,
   "metadata": {},
   "outputs": [],
   "source": [
    "# except 구문에서 발생하는 에러 메세지를 코드 블럭에 넘겨줄 수도 있습니다.\n",
    "\n",
    "# 다음 코드에서 as를 활용하여 에러 메세지를 그 아래 코드 블럭에 넘겨보세요.\n",
    "# 그리고 as로 명명한 에러 메세지를 print를 이용하여 출력해보세요.\n",
    "\n",
    "try:\n",
    "    empty_list = []\n",
    "    print(empty_list[-1])\n",
    "except IndexError:\n",
    "    # 여기에 코드를 작성하세요\n",
    "    \n",
    "\n",
    "    \n"
   ]
  },
  {
   "cell_type": "markdown",
   "metadata": {},
   "source": [
    "## 예외 발생 시키기(Exception Raising)\n",
    "\n"
   ]
  },
  {
   "cell_type": "markdown",
   "metadata": {},
   "source": [
    "### `raise`\n",
    "`raise`를 통해 예외를 강제로 발생시킬 수 있습니다.\n",
    "\n",
    "---\n",
    "\n",
    "**활용법**\n",
    "\n",
    "```python\n",
    "raise <에러>('메시지')\n",
    "```"
   ]
  },
  {
   "cell_type": "code",
   "execution_count": 11,
   "metadata": {
    "ExecuteTime": {
     "end_time": "2022-01-25T02:13:54.401044Z",
     "start_time": "2022-01-25T02:13:54.378567Z"
    }
   },
   "outputs": [
    {
     "ename": "RuntimeError",
     "evalue": "No active exception to reraise",
     "output_type": "error",
     "traceback": [
      "\u001b[1;31m---------------------------------------------------------------------------\u001b[0m",
      "\u001b[1;31mRuntimeError\u001b[0m                              Traceback (most recent call last)",
      "Input \u001b[1;32mIn [11]\u001b[0m, in \u001b[0;36m<module>\u001b[1;34m\u001b[0m\n\u001b[0;32m      1\u001b[0m \u001b[38;5;66;03m# raise를 사용해 봅시다.\u001b[39;00m\n\u001b[0;32m      2\u001b[0m \n\u001b[0;32m      3\u001b[0m \u001b[38;5;66;03m# raise만 작성한 뒤 실행시켜봅시다.\u001b[39;00m\n\u001b[0;32m      4\u001b[0m \u001b[38;5;66;03m# 코드를 실행시켜보고 결과를 확인하세요.\u001b[39;00m\n\u001b[1;32m----> 6\u001b[0m \u001b[38;5;28;01mraise\u001b[39;00m\n",
      "\u001b[1;31mRuntimeError\u001b[0m: No active exception to reraise"
     ]
    }
   ],
   "source": [
    "# raise를 사용해 봅시다.\n",
    "\n",
    "# raise만 작성한 뒤 실행시켜봅시다.\n",
    "# 코드를 실행시켜보고 결과를 확인하세요.\n",
    "\n",
    "raise"
   ]
  },
  {
   "cell_type": "code",
   "execution_count": 12,
   "metadata": {
    "ExecuteTime": {
     "end_time": "2022-01-25T02:13:57.044731Z",
     "start_time": "2022-01-25T02:13:57.025801Z"
    },
    "scrolled": true
   },
   "outputs": [
    {
     "ename": "ValueError",
     "evalue": "hi",
     "output_type": "error",
     "traceback": [
      "\u001b[1;31m---------------------------------------------------------------------------\u001b[0m",
      "\u001b[1;31mValueError\u001b[0m                                Traceback (most recent call last)",
      "Input \u001b[1;32mIn [12]\u001b[0m, in \u001b[0;36m<module>\u001b[1;34m\u001b[0m\n\u001b[0;32m      1\u001b[0m \u001b[38;5;66;03m# 이번에는 ValueError() 오류를 raise 해봅시다.\u001b[39;00m\n\u001b[0;32m      2\u001b[0m \u001b[38;5;66;03m# 코드를 실행시켜보고 결과를 확인하세요.\u001b[39;00m\n\u001b[1;32m----> 4\u001b[0m \u001b[38;5;28;01mraise\u001b[39;00m \u001b[38;5;167;01mValueError\u001b[39;00m(\u001b[38;5;124m'\u001b[39m\u001b[38;5;124mhi\u001b[39m\u001b[38;5;124m'\u001b[39m)\n",
      "\u001b[1;31mValueError\u001b[0m: hi"
     ]
    }
   ],
   "source": [
    "# 이번에는 ValueError() 오류를 raise 해봅시다.\n",
    "# 코드를 실행시켜보고 결과를 확인하세요.\n",
    "\n",
    "raise ValueError('hi')"
   ]
  },
  {
   "cell_type": "markdown",
   "metadata": {},
   "source": [
    "### [연습] `raise` 예외 발생시키기\n",
    "\n",
    "> 리스트를 받아 평균을 반환하는 함수 `avg`를 작성하세요.\n",
    "\n",
    "---\n",
    "\n",
    "- `scores`의 길이가 0인 경우 `Exception`과 메시지를 발생시키세요.\n",
    "    - *예) Exception: 학생이 없습니다.*\n",
    "\n",
    "- 정상적인 경우에는 평균을 `return`합니다."
   ]
  },
  {
   "cell_type": "code",
   "execution_count": 18,
   "metadata": {
    "ExecuteTime": {
     "end_time": "2022-01-25T02:16:18.713850Z",
     "start_time": "2022-01-25T02:16:18.703854Z"
    }
   },
   "outputs": [],
   "source": [
    "import statistics\n",
    "\n",
    "def avg(scores):\n",
    "# 이곳에 코드를 작성하세요.\n",
    "    if len(scores) == 0:\n",
    "        raise Exception('학생이 없습니다.')\n",
    "    return round(statistics.mean(scores), 2)"
   ]
  },
  {
   "cell_type": "code",
   "execution_count": 21,
   "metadata": {
    "ExecuteTime": {
     "end_time": "2022-01-25T02:16:33.264337Z",
     "start_time": "2022-01-25T02:16:33.242396Z"
    },
    "scrolled": true
   },
   "outputs": [
    {
     "ename": "Exception",
     "evalue": "학생이 없습니다.",
     "output_type": "error",
     "traceback": [
      "\u001b[1;31m---------------------------------------------------------------------------\u001b[0m",
      "\u001b[1;31mException\u001b[0m                                 Traceback (most recent call last)",
      "Input \u001b[1;32mIn [21]\u001b[0m, in \u001b[0;36m<module>\u001b[1;34m\u001b[0m\n\u001b[0;32m      1\u001b[0m \u001b[38;5;66;03m# 다음 코드를 통해 올바른 결과가 나오는지 확인하세요.\u001b[39;00m\n\u001b[1;32m----> 2\u001b[0m \u001b[43mavg\u001b[49m\u001b[43m(\u001b[49m\u001b[43m[\u001b[49m\u001b[43m]\u001b[49m\u001b[43m)\u001b[49m\n",
      "Input \u001b[1;32mIn [18]\u001b[0m, in \u001b[0;36mavg\u001b[1;34m(scores)\u001b[0m\n\u001b[0;32m      3\u001b[0m \u001b[38;5;28;01mdef\u001b[39;00m \u001b[38;5;21mavg\u001b[39m(scores):\n\u001b[0;32m      4\u001b[0m \u001b[38;5;66;03m# 이곳에 코드를 작성하세요.\u001b[39;00m\n\u001b[0;32m      5\u001b[0m     \u001b[38;5;28;01mif\u001b[39;00m \u001b[38;5;28mlen\u001b[39m(scores) \u001b[38;5;241m==\u001b[39m \u001b[38;5;241m0\u001b[39m:\n\u001b[1;32m----> 6\u001b[0m         \u001b[38;5;28;01mraise\u001b[39;00m \u001b[38;5;167;01mException\u001b[39;00m(\u001b[38;5;124m'\u001b[39m\u001b[38;5;124m학생이 없습니다.\u001b[39m\u001b[38;5;124m'\u001b[39m)\n\u001b[0;32m      7\u001b[0m     \u001b[38;5;28;01mreturn\u001b[39;00m \u001b[38;5;28mround\u001b[39m(statistics\u001b[38;5;241m.\u001b[39mmean(scores), \u001b[38;5;241m2\u001b[39m)\n",
      "\u001b[1;31mException\u001b[0m: 학생이 없습니다."
     ]
    }
   ],
   "source": [
    "# 다음 코드를 통해 올바른 결과가 나오는지 확인하세요.\n",
    "avg([])"
   ]
  },
  {
   "cell_type": "markdown",
   "metadata": {},
   "source": [
    "### `assert`\n",
    "\n",
    "`assert` 문은 예외를 발생시키는 다른 방법입니다. \n",
    "\n",
    "보통 **상태를 검증하는데 사용**되며 무조건 `AssertionError`가 발생합니다.\n",
    "\n",
    "---\n",
    "\n",
    "**활용법**\n",
    "\n",
    "```python\n",
    "assert Boolean expression, error message\n",
    "\n",
    "assert len([1, 2]) == 1, '길이가 1이 아닙니다.'\n",
    "```\n",
    "\n",
    "---\n",
    "\n",
    "위의 검증식이 거짓일 경우를 발생합니다.\n",
    "\n",
    "일반적으로 디버깅용도로 사용됩니다. [파이썬 문서](https://docs.python.org/ko/3/reference/simple_stmts.html#the-assert-statement)\n",
    "\n",
    "```bash\n",
    "$ python code.py\n",
    "Traceback (most recent call last):\n",
    "  File \"code.py\", line 1, in <module>\n",
    "    assert len([1, 2]) == 1, '길이가 1이 아닙니다.'\n",
    "AssertionError: 길이가 1이 아닙니다.\n",
    "\n",
    "$ python -O code.py\n",
    "\n",
    "```"
   ]
  }
 ],
 "metadata": {
  "kernelspec": {
   "display_name": "Python 3 (ipykernel)",
   "language": "python",
   "name": "python3"
  },
  "language_info": {
   "codemirror_mode": {
    "name": "ipython",
    "version": 3
   },
   "file_extension": ".py",
   "mimetype": "text/x-python",
   "name": "python",
   "nbconvert_exporter": "python",
   "pygments_lexer": "ipython3",
   "version": "3.9.9"
  },
  "latex_envs": {
   "LaTeX_envs_menu_present": true,
   "autoclose": false,
   "autocomplete": true,
   "bibliofile": "biblio.bib",
   "cite_by": "apalike",
   "current_citInitial": 1,
   "eqLabelWithNumbers": true,
   "eqNumInitial": 1,
   "hotkeys": {
    "equation": "Ctrl-E",
    "itemize": "Ctrl-I"
   },
   "labels_anchors": false,
   "latex_user_defs": false,
   "report_style_numbering": false,
   "user_envs_cfg": false
  },
  "toc": {
   "base_numbering": 1,
   "nav_menu": {},
   "number_sections": true,
   "sideBar": false,
   "skip_h1_title": false,
   "title_cell": "Table of Contents",
   "title_sidebar": "에러 & 예외 처리",
   "toc_cell": false,
   "toc_position": {
    "height": "861.094px",
    "left": "32px",
    "top": "85.9583px",
    "width": "349.896px"
   },
   "toc_section_display": true,
   "toc_window_display": false
  }
 },
 "nbformat": 4,
 "nbformat_minor": 4
}
