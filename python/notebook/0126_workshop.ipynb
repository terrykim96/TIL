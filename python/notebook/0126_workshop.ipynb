{
 "cells": [
  {
   "cell_type": "markdown",
   "id": "28529b0a",
   "metadata": {},
   "source": [
    "# pip\n",
    "아래 명령어는 (1) 무엇을 위한 명령인지 (2) 실행은 어디에서 해야하는지 작성 하시오.\n",
    "\n",
    "(1) faker라는 패키지를 설치하기 위한 명령이다.\n",
    "(2) 터미널 상에서 실행해야 한다."
   ]
  },
  {
   "cell_type": "markdown",
   "id": "cc8ecfff",
   "metadata": {},
   "source": [
    "# Basic Usages(https://github.com/joke2k/faker#basic-usage)\n",
    "Faker는 다양한 메서드를 통해 임의의 결과값을 반환해준다. 임의의 영문 이름을 반환하는 아래 코드에서 라인별 의미를 주석을 참고하여 작성하시오"
   ]
  },
  {
   "cell_type": "code",
   "execution_count": null,
   "id": "ab24aafb",
   "metadata": {},
   "outputs": [],
   "source": [
    "from faker import Faker  # 1 모듈 호출을 하기 위한 코드이다.\n",
    "fake = Faker()           # 2 Faker는 class, fake는 instance이다.\n",
    "fake.name                # 3 name()은 fake의 method이다."
   ]
  },
  {
   "cell_type": "markdown",
   "id": "6581058f",
   "metadata": {},
   "source": [
    "# Localization (https://github.com/joke2k/faker#localization)\n",
    "\n",
    "Faker는 다양한 언어의 Locale을 지원한다.\n",
    "\n",
    "1. 인자 없이 호출 시에는 영문이 기본 설정이다. (en_US)\n",
    "2. Locale 정보를 포함하여 호출 시에는 해당 언어 설정을 따른다.\n",
    "\n",
    "직접 해당하는 기능을 구현한다고 하였을 때, 빈칸 (a), (b), (c)에 들어갈 코드로 적절한\n",
    "것을 작성하시오. (힌트: 생성자 메서드와 함수의 개념)\n",
    "\n",
    "(a) : init, (b) : self, (c) : name"
   ]
  },
  {
   "cell_type": "markdown",
   "id": "e8d8a287",
   "metadata": {},
   "source": [
    "# Seeding the Generator (https://github.com/joke2k/faker#seeding-the-generator)\n",
    "컴퓨터 프로그래밍에서 임의의 값을 반환하는 경우(난수 생성 등) 시드라는 개념이 있다. 시드를 설정하게 되면 동일한 순서로 난수를 발생시킬 수 있어 일반적으로 디버깅을 위하여 활용 된다.\n",
    "아래의 코드를 실행 했을 때, #1과 #2에서 출력되는 결과를 각각 작성하고, seed()는 어떤 종류의 메서드인지 작성하시오.\n",
    "\n",
    "(1) 임의의 한국어 이름이 출력된다.\n",
    "(2) 1번과 다른 임의의 한국어 이름이 출력된다.\n",
    ".seed() 메서드의 경우 만드는 난수를 결정해주는 역할을 한다. .seed() 메서드에 같은 인자가 입력될 경우 동일한 난수를 출력한다."
   ]
  },
  {
   "cell_type": "markdown",
   "id": "a4a800a9",
   "metadata": {},
   "source": [
    "# Seeding the Generator\n",
    "아래의 코드를 실행 했을 때, #1과 #2에서 출력되는 결과를 각각 작성하고, seed_instance()는 어떤 종류의 메서드인지 작성하시오.\n",
    "\n",
    "(1) 3번에서의 #1에서와 같은 한국어 이름이 출력된다.\n",
    "(2) 3번의 #2와 다른 임의의 한국어 이름이 출력된다.\n",
    ".seed_instance()는 저장한 난수를 일시적으로 불러오는 메서드이다. \n",
    ".seed()로 난수를 저장하여 .seed_instance로 일시적으로 불러올 수 있다."
   ]
  },
  {
   "cell_type": "code",
   "execution_count": 17,
   "id": "cee5fb41",
   "metadata": {
    "ExecuteTime": {
     "end_time": "2022-01-26T08:16:22.248184Z",
     "start_time": "2022-01-26T08:16:22.069634Z"
    }
   },
   "outputs": [
    {
     "name": "stdout",
     "output_type": "stream",
     "text": [
      "이도윤\n",
      "김광수\n"
     ]
    }
   ],
   "source": [
    "import random\n",
    "from faker import Faker\n",
    "\n",
    "fake = Faker('ko_KR')\n",
    "fake.seed_instance(4321)\n",
    "\n",
    "print(fake.name())\n",
    "\n",
    "fake2 = Faker('ko_KR')\n",
    "print(fake2.name())"
   ]
  }
 ],
 "metadata": {
  "kernelspec": {
   "display_name": "Python 3 (ipykernel)",
   "language": "python",
   "name": "python3"
  },
  "language_info": {
   "codemirror_mode": {
    "name": "ipython",
    "version": 3
   },
   "file_extension": ".py",
   "mimetype": "text/x-python",
   "name": "python",
   "nbconvert_exporter": "python",
   "pygments_lexer": "ipython3",
   "version": "3.9.9"
  },
  "toc": {
   "base_numbering": 1,
   "nav_menu": {},
   "number_sections": true,
   "sideBar": true,
   "skip_h1_title": false,
   "title_cell": "Table of Contents",
   "title_sidebar": "Contents",
   "toc_cell": false,
   "toc_position": {},
   "toc_section_display": true,
   "toc_window_display": false
  }
 },
 "nbformat": 4,
 "nbformat_minor": 5
}
