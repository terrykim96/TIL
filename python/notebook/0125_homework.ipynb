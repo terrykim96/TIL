{
 "cells": [
  {
   "cell_type": "markdown",
   "id": "e8b36029",
   "metadata": {},
   "source": [
    "# Built-in 함수와 메서드\n",
    "sorted()와 .sort()의 차이점을 코드의 실행 결과를 활용하여 설명하시오."
   ]
  },
  {
   "cell_type": "code",
   "execution_count": 7,
   "id": "8b3300f8",
   "metadata": {
    "ExecuteTime": {
     "end_time": "2022-01-25T05:15:11.571619Z",
     "start_time": "2022-01-25T05:15:11.561619Z"
    }
   },
   "outputs": [
    {
     "name": "stdout",
     "output_type": "stream",
     "text": [
      "[1, 2, 5, 3, 4]\n",
      "[1, 2, 3, 4, 5]\n",
      "[1, 2, 5, 3, 4]\n",
      "None [1, 2, 3, 4, 5]\n"
     ]
    }
   ],
   "source": [
    "# .sort()는 원본 list를 변형시키고, None을 리턴합니다. sorted()는 원본 list에 영향을 주지 않고 정렬한 결과를 반환합니다.\n",
    "\n",
    "a = [1, 2, 5, 3, 4]\n",
    "print(a)\n",
    "print(sorted(a))\n",
    "print(a)\n",
    "a.sort()\n",
    "print(a.sort(), a)"
   ]
  },
  {
   "cell_type": "markdown",
   "id": "268cec98",
   "metadata": {},
   "source": [
    "# .extend()와 .append()\n",
    ".extend()와 .append()의 차이점을 코드의 실행 결과를 활용하여 설명하시오."
   ]
  },
  {
   "cell_type": "code",
   "execution_count": 8,
   "id": "556833e2",
   "metadata": {
    "ExecuteTime": {
     "end_time": "2022-01-25T05:17:08.039847Z",
     "start_time": "2022-01-25T05:17:08.029873Z"
    }
   },
   "outputs": [
    {
     "name": "stdout",
     "output_type": "stream",
     "text": [
      "[1, 2, 3, 4, 'ediya']\n",
      "[1, 2, 3, 4, 'ediya', 'e', 'd', 'i', 'y', 'a']\n"
     ]
    }
   ],
   "source": [
    "# .extend()는 값을 하나하나 붙입니다. .append()는 입력된 값 하나를 요소로 취급하여 한번에 추가합니다.\n",
    "\n",
    "a = [1, 2, 3, 4]\n",
    "\n",
    "a.append('ediya')\n",
    "print(a)\n",
    "a.extend('ediya')\n",
    "print(a)"
   ]
  },
  {
   "cell_type": "markdown",
   "id": "95f8fcda",
   "metadata": {},
   "source": [
    "# 복사가 잘 된 건가?\n",
    "아래의 코드를 실행 하였을 때, 변수 a와 b에 담긴 list의 요소가 같은지 혹은 다른지 여부를 판단하고 그 이유를 작성하시오.\n",
    "\n",
    "두 list에 담긴 요소는 같다. 변경 가능한 리스트의 경우 a와 b가 같은 id로 저장되어 list가 수정되면 할당된 모든 변수에 적용된다."
   ]
  },
  {
   "cell_type": "code",
   "execution_count": 9,
   "id": "51bff457",
   "metadata": {
    "ExecuteTime": {
     "end_time": "2022-01-25T05:19:32.831476Z",
     "start_time": "2022-01-25T05:19:32.816516Z"
    }
   },
   "outputs": [
    {
     "name": "stdout",
     "output_type": "stream",
     "text": [
      "[1, 2, 5, 4, 5]\n",
      "[1, 2, 5, 4, 5]\n"
     ]
    }
   ],
   "source": [
    "a = [1, 2, 3, 4, 5]\n",
    "b = a\n",
    "\n",
    "a[2] = 5\n",
    "\n",
    "print(a)\n",
    "print(b)"
   ]
  }
 ],
 "metadata": {
  "kernelspec": {
   "display_name": "Python 3 (ipykernel)",
   "language": "python",
   "name": "python3"
  },
  "language_info": {
   "codemirror_mode": {
    "name": "ipython",
    "version": 3
   },
   "file_extension": ".py",
   "mimetype": "text/x-python",
   "name": "python",
   "nbconvert_exporter": "python",
   "pygments_lexer": "ipython3",
   "version": "3.9.9"
  },
  "toc": {
   "base_numbering": 1,
   "nav_menu": {},
   "number_sections": true,
   "sideBar": true,
   "skip_h1_title": false,
   "title_cell": "Table of Contents",
   "title_sidebar": "Contents",
   "toc_cell": false,
   "toc_position": {},
   "toc_section_display": true,
   "toc_window_display": false
  }
 },
 "nbformat": 4,
 "nbformat_minor": 5
}
