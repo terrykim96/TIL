{
 "cells": [
  {
   "cell_type": "markdown",
   "id": "a7c1a7c1",
   "metadata": {},
   "source": [
    "# Mutable & Immutable \n",
    "주어진 컨테이너들을 각각 변경 가능한 것(mutable)과 변경 불가능한 것(immutable)으로 분류하시오.\n",
    "\n",
    "mutable: List, Set, Dictionary\n",
    "immutable: String, Tuple, Range"
   ]
  },
  {
   "cell_type": "markdown",
   "id": "31e41c1a",
   "metadata": {},
   "source": [
    "# 홀수만 담기\n",
    "range와 slicing을 활용하여 1부터 50까지의 숫자 중, 홀수로만 이루어진 리스트를\n",
    "만드시오"
   ]
  },
  {
   "cell_type": "code",
   "execution_count": 2,
   "id": "841b2e3c",
   "metadata": {
    "ExecuteTime": {
     "end_time": "2022-01-18T12:35:23.304084Z",
     "start_time": "2022-01-18T12:35:23.288086Z"
    }
   },
   "outputs": [
    {
     "name": "stdout",
     "output_type": "stream",
     "text": [
      "[1, 3, 5, 7, 9, 11, 13, 15, 17, 19, 21, 23, 25, 27, 29, 31, 33, 35, 37, 39, 41, 43, 45, 47, 49]\n"
     ]
    }
   ],
   "source": [
    "num_list = list(range(1, 51))\n",
    "odd_list = num_list[::2]\n",
    "print(odd_list)"
   ]
  },
  {
   "cell_type": "markdown",
   "id": "9b5cd370",
   "metadata": {},
   "source": [
    "# Dictionary 만들기\n",
    "반 학생들의 정보를 이용하여 key는 이름, value는 나이인 dictionary를 만드시오."
   ]
  },
  {
   "cell_type": "code",
   "execution_count": 3,
   "id": "c5fcc482",
   "metadata": {
    "ExecuteTime": {
     "end_time": "2022-01-18T12:36:22.555411Z",
     "start_time": "2022-01-18T12:36:22.550424Z"
    }
   },
   "outputs": [],
   "source": [
    "classmate = {'민성': 28, '수연': 27, '연준': 25, '영준': 27, '우석':27}"
   ]
  },
  {
   "cell_type": "markdown",
   "id": "2c4b80d8",
   "metadata": {},
   "source": [
    "# 반복문으로 네모 출력\n",
    "두 개의 정수 n과 m이 주어졌을 때, 가로의 길이가 n, 세로의 길이가 m인 직사각형 형태를\n",
    "별(*) 문자를 이용하여 출력하시오. 단, 반복문을 사용하여 작성하시오"
   ]
  },
  {
   "cell_type": "code",
   "execution_count": 5,
   "id": "5f7b4eee",
   "metadata": {
    "ExecuteTime": {
     "end_time": "2022-01-18T12:44:53.768130Z",
     "start_time": "2022-01-18T12:44:53.760143Z"
    }
   },
   "outputs": [
    {
     "name": "stdout",
     "output_type": "stream",
     "text": [
      "*****\n",
      "*****\n",
      "*****\n",
      "*****\n",
      "*****\n",
      "*****\n",
      "*****\n",
      "*****\n",
      "*****\n"
     ]
    }
   ],
   "source": [
    "n = 5\n",
    "m = 9\n",
    "\n",
    "for _ in range(m):\n",
    "    print('*'*n)"
   ]
  },
  {
   "cell_type": "markdown",
   "id": "3c04b84b",
   "metadata": {},
   "source": [
    "# 조건 표현식\n",
    "주어진 코드의 조건문을 조건 표현식으로 바꾸어 작성하시오."
   ]
  },
  {
   "cell_type": "code",
   "execution_count": 7,
   "id": "ebd6c5d4",
   "metadata": {
    "ExecuteTime": {
     "end_time": "2022-01-18T12:46:14.727545Z",
     "start_time": "2022-01-18T12:46:14.720558Z"
    }
   },
   "outputs": [
    {
     "name": "stdout",
     "output_type": "stream",
     "text": [
      "입실 불가\n"
     ]
    }
   ],
   "source": [
    "temp = 36.5\n",
    "print('입실 불가') if temp >= 37.5 else print('입실 가능')"
   ]
  },
  {
   "cell_type": "markdown",
   "id": "1220dffc",
   "metadata": {},
   "source": [
    "# 평균 구하기\n",
    "주어진 list에 담긴 숫자들의 평균값을 출력하시오"
   ]
  },
  {
   "cell_type": "code",
   "execution_count": 10,
   "id": "a148529b",
   "metadata": {
    "ExecuteTime": {
     "end_time": "2022-01-18T14:13:23.967858Z",
     "start_time": "2022-01-18T14:13:23.954892Z"
    }
   },
   "outputs": [
    {
     "name": "stdout",
     "output_type": "stream",
     "text": [
      "87.75\n"
     ]
    }
   ],
   "source": [
    "from statistics import mean\n",
    "scores = [80, 89, 99, 83]\n",
    "\n",
    "print(mean(scores))"
   ]
  }
 ],
 "metadata": {
  "kernelspec": {
   "display_name": "Python 3 (ipykernel)",
   "language": "python",
   "name": "python3"
  },
  "language_info": {
   "codemirror_mode": {
    "name": "ipython",
    "version": 3
   },
   "file_extension": ".py",
   "mimetype": "text/x-python",
   "name": "python",
   "nbconvert_exporter": "python",
   "pygments_lexer": "ipython3",
   "version": "3.9.9"
  },
  "toc": {
   "base_numbering": 1,
   "nav_menu": {},
   "number_sections": true,
   "sideBar": true,
   "skip_h1_title": false,
   "title_cell": "Table of Contents",
   "title_sidebar": "Contents",
   "toc_cell": false,
   "toc_position": {},
   "toc_section_display": true,
   "toc_window_display": false
  }
 },
 "nbformat": 4,
 "nbformat_minor": 5
}
