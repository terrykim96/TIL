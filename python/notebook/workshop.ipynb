{
 "cells": [
  {
   "cell_type": "markdown",
   "id": "82100c84",
   "metadata": {},
   "source": [
    "# 세로로 출력하기"
   ]
  },
  {
   "cell_type": "code",
   "execution_count": 1,
   "id": "223e07b7",
   "metadata": {},
   "outputs": [
    {
     "name": "stdout",
     "output_type": "stream",
     "text": [
      "5\n",
      "1\n",
      "2\n",
      "3\n",
      "4\n",
      "5\n"
     ]
    }
   ],
   "source": [
    "N = int(input())\n",
    "for i in range(1, N+1):\n",
    "    print(i)"
   ]
  },
  {
   "cell_type": "markdown",
   "id": "cdc68f5c",
   "metadata": {},
   "source": [
    "# 거꾸로 세로로 출력하기"
   ]
  },
  {
   "cell_type": "code",
   "execution_count": 2,
   "id": "3405bfe0",
   "metadata": {
    "scrolled": true
   },
   "outputs": [
    {
     "name": "stdout",
     "output_type": "stream",
     "text": [
      "5\n",
      "5\n",
      "4\n",
      "3\n",
      "2\n",
      "1\n",
      "0\n"
     ]
    }
   ],
   "source": [
    "N = int(input())\n",
    "for i in range(N, -1, -1):\n",
    "    print(i)"
   ]
  },
  {
   "cell_type": "markdown",
   "id": "cd43b957",
   "metadata": {},
   "source": [
    "# N줄로 덧셈"
   ]
  },
  {
   "cell_type": "code",
   "execution_count": 2,
   "id": "63e74924",
   "metadata": {
    "ExecuteTime": {
     "end_time": "2022-01-18T09:14:00.962230Z",
     "start_time": "2022-01-18T09:13:59.151286Z"
    }
   },
   "outputs": [
    {
     "name": "stdout",
     "output_type": "stream",
     "text": [
      "1000000\n",
      "주어진 숫자가 너무 큽니다.\n",
      "0\n"
     ]
    }
   ],
   "source": [
    "a = 0\n",
    "N = int(input())\n",
    "if N <= 10000:\n",
    "    for i in range(1, N+1):\n",
    "        a += i\n",
    "else:\n",
    "    print('주어진 숫자가 너무 큽니다.')\n",
    "print(a)"
   ]
  }
 ],
 "metadata": {
  "kernelspec": {
   "display_name": "Python 3 (ipykernel)",
   "language": "python",
   "name": "python3"
  },
  "language_info": {
   "codemirror_mode": {
    "name": "ipython",
    "version": 3
   },
   "file_extension": ".py",
   "mimetype": "text/x-python",
   "name": "python",
   "nbconvert_exporter": "python",
   "pygments_lexer": "ipython3",
   "version": "3.9.9"
  },
  "toc": {
   "base_numbering": 1,
   "nav_menu": {},
   "number_sections": true,
   "sideBar": true,
   "skip_h1_title": false,
   "title_cell": "Table of Contents",
   "title_sidebar": "Contents",
   "toc_cell": false,
   "toc_position": {},
   "toc_section_display": true,
   "toc_window_display": false
  }
 },
 "nbformat": 4,
 "nbformat_minor": 5
}
