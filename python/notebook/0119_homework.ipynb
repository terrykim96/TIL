{
 "cells": [
  {
   "cell_type": "markdown",
   "id": "62ce5853",
   "metadata": {},
   "source": [
    "# Built-in 함수\n",
    "Python에서 기본으로 사용할 수 있는 built-in 함수를 최소 5가지 이상 작성하시오.\n",
    "\n",
    "sum(): 인자들의 합을 return합니다.\n",
    "set(): set를 생성합니다.\n",
    "list(): list를 생성합니다.\n",
    "len(): 인자의 길이를 return합니다.\n",
    "print(): 인자를 출력합니다.\n",
    "int(): 인자를 정수형으로 변환합니다."
   ]
  },
  {
   "cell_type": "markdown",
   "id": "b0c7ee9d",
   "metadata": {},
   "source": [
    "# 정중앙 문자\n",
    "문자열을 전달 받아 해당 문자열의 정중앙 문자를 반환하는 get_middle_char 함수를 작성하시오. 단, 문자열의 길이가 짝수일 경우에는 정중앙 문자 2개를 반환한다."
   ]
  },
  {
   "cell_type": "code",
   "execution_count": 7,
   "id": "2fc6b834",
   "metadata": {
    "ExecuteTime": {
     "end_time": "2022-01-19T05:59:29.512114Z",
     "start_time": "2022-01-19T05:59:29.498152Z"
    }
   },
   "outputs": [],
   "source": [
    "def get_middle_char(string):\n",
    "    # 문자열의 길이가 홀수일 경우\n",
    "    if len(string) % 2 == 1:\n",
    "        return string[int(len(string)/2)]\n",
    "    # 문자열의 길이가 짝수일 경우\n",
    "    else:\n",
    "        return string[int(len(string)/2 - 1)] + string[int(len(string)/2)]"
   ]
  },
  {
   "cell_type": "code",
   "execution_count": 8,
   "id": "c8503df3",
   "metadata": {
    "ExecuteTime": {
     "end_time": "2022-01-19T05:59:30.570596Z",
     "start_time": "2022-01-19T05:59:30.552044Z"
    }
   },
   "outputs": [
    {
     "name": "stdout",
     "output_type": "stream",
     "text": [
      "a\n",
      "di\n"
     ]
    }
   ],
   "source": [
    "print(get_middle_char('ssafy'))\n",
    "print(get_middle_char('coding'))"
   ]
  },
  {
   "cell_type": "markdown",
   "id": "f310405a",
   "metadata": {},
   "source": [
    "# 위치 인자와 키워드 인자\n",
    "다음과 같이 함수가 선언되어 있을 때, 보기 (1)~(4) 중에서 실행 시 오류가 발생하는 코드를 고르시오.\n",
    "\n",
    "(4)번. 키워드 인자를 활용한 다음에 위치 인자를 활용할 수 없습니다."
   ]
  },
  {
   "cell_type": "markdown",
   "id": "7760394c",
   "metadata": {},
   "source": [
    "# 나의 반환값은\n",
    "다음과 같이 함수를 선언하고 호출하였을 때, 변수 result에 저장된 값을 작성하시오.\n",
    "\n",
    "None. return 값이 없기 때문에 변수 result에는 아무 값도 저장되지 않습니다."
   ]
  },
  {
   "cell_type": "markdown",
   "id": "ce31a39c",
   "metadata": {
    "ExecuteTime": {
     "end_time": "2022-01-19T06:04:41.763320Z",
     "start_time": "2022-01-19T06:04:41.750384Z"
    }
   },
   "source": [
    "# 가변 인자 리스트\n",
    "가변 인자 리스트를 사용하여, 갯수가 정해지지 않은 여러 정수들을 전달 받아 해당 정수들의 평균 값을 반환하는 my_avg 함수를 작성하시오."
   ]
  },
  {
   "cell_type": "code",
   "execution_count": 26,
   "id": "ddc667b3",
   "metadata": {
    "ExecuteTime": {
     "end_time": "2022-01-19T06:10:03.349026Z",
     "start_time": "2022-01-19T06:10:03.343019Z"
    }
   },
   "outputs": [],
   "source": [
    "def my_avg(*args):\n",
    "    import statistics\n",
    "    return format(statistics.mean(args), \".1f\")"
   ]
  },
  {
   "cell_type": "code",
   "execution_count": 27,
   "id": "fdc7fb91",
   "metadata": {
    "ExecuteTime": {
     "end_time": "2022-01-19T06:10:04.961844Z",
     "start_time": "2022-01-19T06:10:04.951861Z"
    }
   },
   "outputs": [
    {
     "data": {
      "text/plain": [
       "'81.0'"
      ]
     },
     "execution_count": 27,
     "metadata": {},
     "output_type": "execute_result"
    }
   ],
   "source": [
    "my_avg(77, 83, 95, 80, 70)"
   ]
  }
 ],
 "metadata": {
  "kernelspec": {
   "display_name": "Python 3 (ipykernel)",
   "language": "python",
   "name": "python3"
  },
  "language_info": {
   "codemirror_mode": {
    "name": "ipython",
    "version": 3
   },
   "file_extension": ".py",
   "mimetype": "text/x-python",
   "name": "python",
   "nbconvert_exporter": "python",
   "pygments_lexer": "ipython3",
   "version": "3.9.9"
  },
  "toc": {
   "base_numbering": 1,
   "nav_menu": {},
   "number_sections": true,
   "sideBar": true,
   "skip_h1_title": false,
   "title_cell": "Table of Contents",
   "title_sidebar": "Contents",
   "toc_cell": false,
   "toc_position": {},
   "toc_section_display": true,
   "toc_window_display": false
  }
 },
 "nbformat": 4,
 "nbformat_minor": 5
}
