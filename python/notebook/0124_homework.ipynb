{
 "cells": [
  {
   "cell_type": "markdown",
   "id": "7dbc7c06",
   "metadata": {},
   "source": [
    "#  모음은 몇 개나 있을까?\n",
    "문자열을 전달 받아 해당 문자열의 모음 갯수를 반환하는 count_vowels 함수를 작성하시오. 단, .count() 메서드를 활용하여 작성하시오."
   ]
  },
  {
   "cell_type": "code",
   "execution_count": 3,
   "id": "3edcb456",
   "metadata": {
    "ExecuteTime": {
     "end_time": "2022-01-24T04:39:47.324539Z",
     "start_time": "2022-01-24T04:39:47.313596Z"
    }
   },
   "outputs": [
    {
     "data": {
      "text/plain": [
       "3"
      ]
     },
     "execution_count": 3,
     "metadata": {},
     "output_type": "execute_result"
    }
   ],
   "source": [
    "def count_vowels(word):\n",
    "    find = ['a', 'e', 'i', 'o', 'u']\n",
    "    ans = 0\n",
    "    for char in find:\n",
    "        ans += word.count(char)\n",
    "    return ans\n",
    "\n",
    "count_vowels('banana')"
   ]
  },
  {
   "cell_type": "markdown",
   "id": "14b0d4c0",
   "metadata": {},
   "source": [
    "# 문자열 조작\n",
    "다음 중, 문자열(string)을 조작하는 방법으로 옳지 않은 것을 고르시오.\n",
    "\n",
    "(4). 특정 문자를 지정하지 않으면 공백을 제거합니다."
   ]
  },
  {
   "cell_type": "markdown",
   "id": "34bf6381",
   "metadata": {},
   "source": [
    "# 정사각형만 만들기\n",
    "각각 너비와 높이의 값으로 이루어진 2개의 list를 전달 받아, 각각의 값들을 조합하여 만들 수 있는 정사각형만의 넓이를 담은 list를 반환하는 only_square_area 함수를 작성하시오."
   ]
  },
  {
   "cell_type": "code",
   "execution_count": 4,
   "id": "fe13d969",
   "metadata": {
    "ExecuteTime": {
     "end_time": "2022-01-24T04:44:49.484007Z",
     "start_time": "2022-01-24T04:44:49.466055Z"
    }
   },
   "outputs": [
    {
     "data": {
      "text/plain": [
       "[1024, 3025]"
      ]
     },
     "execution_count": 4,
     "metadata": {},
     "output_type": "execute_result"
    }
   ],
   "source": [
    "def only_square_area(list_wid, list_len):\n",
    "    ans_list = []\n",
    "    for width in list_wid:\n",
    "        if width in list_len:\n",
    "            ans_list.append(width**2)\n",
    "    return ans_list\n",
    "\n",
    "only_square_area([32, 55, 63], [13, 32, 30, 55])            "
   ]
  }
 ],
 "metadata": {
  "kernelspec": {
   "display_name": "Python 3 (ipykernel)",
   "language": "python",
   "name": "python3"
  },
  "language_info": {
   "codemirror_mode": {
    "name": "ipython",
    "version": 3
   },
   "file_extension": ".py",
   "mimetype": "text/x-python",
   "name": "python",
   "nbconvert_exporter": "python",
   "pygments_lexer": "ipython3",
   "version": "3.9.9"
  },
  "toc": {
   "base_numbering": 1,
   "nav_menu": {},
   "number_sections": true,
   "sideBar": true,
   "skip_h1_title": false,
   "title_cell": "Table of Contents",
   "title_sidebar": "Contents",
   "toc_cell": false,
   "toc_position": {},
   "toc_section_display": true,
   "toc_window_display": false
  }
 },
 "nbformat": 4,
 "nbformat_minor": 5
}
