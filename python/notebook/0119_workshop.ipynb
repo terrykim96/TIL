{
 "cells": [
  {
   "cell_type": "markdown",
   "id": "cb8e1680",
   "metadata": {},
   "source": [
    "# List의 합 구하기\n",
    "정수로만 이루어진 list를 전달 받아 해당 list의 모든 요소들의 합을 반환하는 list_sum 함수를 built-in 함수인 sum() 함수를 사용하지 않고 작성하시오."
   ]
  },
  {
   "cell_type": "code",
   "execution_count": 2,
   "id": "955b1ea6",
   "metadata": {
    "ExecuteTime": {
     "end_time": "2022-01-19T06:12:53.912367Z",
     "start_time": "2022-01-19T06:12:53.895433Z"
    }
   },
   "outputs": [],
   "source": [
    "def list_sum(list_a):\n",
    "    ans = 0\n",
    "    # list 내의 숫자에 순서대로 접근해 더해줍니다.\n",
    "    for num in list_a:\n",
    "        ans += num\n",
    "    return ans"
   ]
  },
  {
   "cell_type": "markdown",
   "id": "07a25c75",
   "metadata": {
    "ExecuteTime": {
     "end_time": "2022-01-19T06:12:59.638028Z",
     "start_time": "2022-01-19T06:12:59.625078Z"
    }
   },
   "source": [
    "# Dictionary로 이루어진 List의 합 구하기\n",
    "Dictionary로 이루어진 list를 전달 받아 모든 dictionary의 'age' key에 해당하는 value 들의 합을 반환하는 dict_list_sum 함수를 built-in 함수인 sum() 함수를 사용하지 않고 작성하시오."
   ]
  },
  {
   "cell_type": "code",
   "execution_count": 6,
   "id": "d69e5a46",
   "metadata": {
    "ExecuteTime": {
     "end_time": "2022-01-19T06:15:36.876057Z",
     "start_time": "2022-01-19T06:15:36.867081Z"
    }
   },
   "outputs": [],
   "source": [
    "def dict_list_sum(dic):\n",
    "    ans = 0\n",
    "    # list 내의 dictionary에 for문으로 순서대로 접근합니다.\n",
    "    for i in range(len(dic)):\n",
    "        # item()를 이용해 dictionary 내 key가 'age'인 value들을 더해줍니다.\n",
    "        for key, value in dic[i].items():\n",
    "            if key == 'age':\n",
    "                ans += value\n",
    "    return ans\n",
    "\n",
    "def dict_list_sum(dict_list):\n",
    "    result = 0\n",
    "    # item()를 이용해 dictionary 내 key가 'age'인 value들을 더해줍니다.\n",
    "    for i in range(len(dict_list)):\n",
    "        result += dict_list[i]['age']\n",
    "    return result"
   ]
  },
  {
   "cell_type": "markdown",
   "id": "08088ddb",
   "metadata": {
    "ExecuteTime": {
     "end_time": "2022-01-19T06:16:15.992551Z",
     "start_time": "2022-01-19T06:16:15.985571Z"
    }
   },
   "source": [
    "# 2차원 List의 전체 합 구하기\n",
    "정수로만 이루어진 2차원 list를 전달 받아 해당 list의 모든 요소들의 합을 반환하는all_list_sum 함수를 built-in 함수인 sum() 함수를 사용하지 않고 작성하시오."
   ]
  },
  {
   "cell_type": "code",
   "execution_count": 11,
   "id": "ecb68c15",
   "metadata": {
    "ExecuteTime": {
     "end_time": "2022-01-19T06:18:45.776588Z",
     "start_time": "2022-01-19T06:18:45.766614Z"
    }
   },
   "outputs": [],
   "source": [
    "def all_list_sum(list_b):\n",
    "    ans = 0\n",
    "    # list 내의 각 list에 for문으로 순서대로 접근합니다.\n",
    "    for i in range(len(list_b)):\n",
    "        # list 내의 숫자에 순서대로 접근해 더해줍니다.\n",
    "        for num in list_b[i]:\n",
    "            ans += num\n",
    "    return ans"
   ]
  }
 ],
 "metadata": {
  "kernelspec": {
   "display_name": "Python 3 (ipykernel)",
   "language": "python",
   "name": "python3"
  },
  "language_info": {
   "codemirror_mode": {
    "name": "ipython",
    "version": 3
   },
   "file_extension": ".py",
   "mimetype": "text/x-python",
   "name": "python",
   "nbconvert_exporter": "python",
   "pygments_lexer": "ipython3",
   "version": "3.9.9"
  },
  "toc": {
   "base_numbering": 1,
   "nav_menu": {},
   "number_sections": true,
   "sideBar": true,
   "skip_h1_title": false,
   "title_cell": "Table of Contents",
   "title_sidebar": "Contents",
   "toc_cell": false,
   "toc_position": {},
   "toc_section_display": true,
   "toc_window_display": false
  }
 },
 "nbformat": 4,
 "nbformat_minor": 5
}
