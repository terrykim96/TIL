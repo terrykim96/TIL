{
 "cells": [
  {
   "cell_type": "markdown",
   "metadata": {},
   "source": [
    "# Practice (선택)\n",
    "\n",
    "> OOP(Object-Oriented-Programming)"
   ]
  },
  {
   "cell_type": "markdown",
   "metadata": {},
   "source": [
    "## Pair Matching Program\n",
    "\n",
    "> 페어 프로그래밍은 하나의 컴퓨터에서 두 사람의 프로그래머가 작업하는 방식을 의미한다. \n",
    ">\n",
    "> SSAFY 1학기 정규 과정에서 프로젝트는 페어 프로그래밍을 통해 진행한다. 진정한 프로그래머가 되기 위해 김싸피는 페어를 매칭하기 위한 프로그램을 작성하려고 한다. 클래스를 활용해 작성하며 포함되는 메서드는 아래와 같다.\n",
    ">\n",
    "\n",
    "**구성 요소**\n",
    "1. 초기화 메서드는 인자로 학생 이름으로 구성된 리스트를 받아서 인스턴스 변수에 할당한다.\n",
    "2. `pick(n)` 메서드는 학생들 명단에서 인자 n명 만큼 랜덤으로 추출하여 return한다.\n",
    "3. `match_pair()` 메서드는 학생들 명단을 랜덤으로 2명씩 매칭해 준다. 이때, 학생들 명단의 수가 홀수명이면 단 한팀만 3명으로 구성한다.\n",
    "\n",
    "---\n",
    "\n",
    "예시)\n",
    "\n",
    "```python\n",
    "ch = ClassHelper(['김싸피', '이싸피', '조싸피', '박싸피', '정싸피'])\n",
    "\n",
    "ch.pick(1) #=> ['이싸피']\n",
    "ch.pick(1) #=> ['김싸피']\n",
    "ch.pick(2) #=> ['김싸피', '박싸피']\n",
    "ch.pick(3) #=> ['김싸피', '조싸피', '정싸피']\n",
    "ch.pick(4) #=> ['박싸피', '이싸피', '김싸피', '정싸피']\n",
    "\n",
    "ch.match_pair() #=> [['조싸피', '이싸피'], ['김싸피', '정싸피', '박싸피']]\n",
    "```"
   ]
  },
  {
   "cell_type": "code",
   "execution_count": 45,
   "metadata": {
    "ExecuteTime": {
     "end_time": "2022-01-27T04:33:35.954869Z",
     "start_time": "2022-01-27T04:33:35.946890Z"
    }
   },
   "outputs": [],
   "source": [
    "class ClassHelper:\n",
    "    pass\n",
    "    # 아래에 코드를 작성하시오.\n",
    "    import random\n",
    "    def __init__(self, name):\n",
    "        self.name = name\n",
    "        \n",
    "    def pick(self, n):\n",
    "        rand = self.random.sample(self.name, n)\n",
    "        return rand\n",
    "    \n",
    "    def match_pair(self):\n",
    "        self.random.shuffle(self.name)\n",
    "        \n",
    "        if len(self.name) % 2 == 1:\n",
    "            result = [self.name[i * 2 : (i + 1) * 2] for i in range((len(self.name)) // 2 - 1)]\n",
    "            result.append(self.name[-4:-1])\n",
    "            return result\n",
    "        \n",
    "        result = [self.name[i * 2 : (i + 1) * 2] for i in range((len(self.name)) // 2)]\n",
    "        return result"
   ]
  },
  {
   "cell_type": "code",
   "execution_count": 48,
   "metadata": {
    "ExecuteTime": {
     "end_time": "2022-01-27T04:33:58.509740Z",
     "start_time": "2022-01-27T04:33:58.495742Z"
    }
   },
   "outputs": [
    {
     "data": {
      "text/plain": [
       "[['조싸피', '박싸피'], ['김싸피', '임싸피'], ['최싸피', '정싸피'], ['이싸피', '오싸피']]"
      ]
     },
     "execution_count": 48,
     "metadata": {},
     "output_type": "execute_result"
    }
   ],
   "source": [
    "# 해당 코드를 통해 올바른 결과가 나오는지 확인하시오.\n",
    "ch = ClassHelper(['김싸피', '이싸피', '조싸피', '박싸피', '정싸피', '최싸피', '임싸피', '오싸피'])\n",
    "\n",
    "ch.pick(4)\n",
    "\n",
    "ch.match_pair()"
   ]
  }
 ],
 "metadata": {
  "kernelspec": {
   "display_name": "Python 3 (ipykernel)",
   "language": "python",
   "name": "python3"
  },
  "language_info": {
   "codemirror_mode": {
    "name": "ipython",
    "version": 3
   },
   "file_extension": ".py",
   "mimetype": "text/x-python",
   "name": "python",
   "nbconvert_exporter": "python",
   "pygments_lexer": "ipython3",
   "version": "3.9.9"
  },
  "toc": {
   "base_numbering": 1,
   "nav_menu": {},
   "number_sections": true,
   "sideBar": true,
   "skip_h1_title": false,
   "title_cell": "Table of Contents",
   "title_sidebar": "Contents",
   "toc_cell": false,
   "toc_position": {},
   "toc_section_display": true,
   "toc_window_display": false
  }
 },
 "nbformat": 4,
 "nbformat_minor": 4
}
