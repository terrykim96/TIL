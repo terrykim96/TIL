{
 "cells": [
  {
   "cell_type": "markdown",
   "id": "regional-interval",
   "metadata": {},
   "source": [
    "# Pokemon (선택)\n",
    "\n",
    "> OOP(Object-Oriented-Programming)"
   ]
  },
  {
   "cell_type": "markdown",
   "id": "economic-holly",
   "metadata": {},
   "source": [
    "## 포켓몬\n",
    "\n",
    "> 피카츄를 클래스-인스턴스로 구현하세요.\n",
    ">\n",
    "> 게임을 만든다면 아래와 같이 먼저 기획을 하고 코드로 구현하게 됩니다.\n",
    ">\n",
    "> 우선 아래와 같이 구현해 보고, 추가로 앞서 배운 모든 지식을 활용하여 본인이 원하는 대로 구현 및 수정하세요.\n",
    ">\n",
    "> (선택적 도전과제: 랜덤 모듈, 조건문 그리고 반복문 등을 활용하여 전투를 구현해보세요.)\n",
    "---\n",
    "\n",
    "피카츄를 예시로 \n",
    "\n",
    "**모든** 피카츄는 다음과 같은 속성을 갖습니다. \n",
    "* `name`: 이름\n",
    "\n",
    "\n",
    "* `level`: 레벨\n",
    "    * 레벨은 시작할 때 모두 5 입니다.\n",
    "    \n",
    "    \n",
    "* `hp`: 체력\n",
    "    * 체력은 `level` * 20 입니다.\n",
    "    \n",
    "    \n",
    "* `exp`: 경험치\n",
    "    * 상대방을 쓰러뜨리면 상대방 `level` * 15 를 획득합니다.\n",
    "    * 경험치는 `level` * 100 이 되면, 레벨이 하나 올라가고 0부터 추가 됩니다. \n",
    "\n",
    "**모든** 피카츄는 다음과 같은 행동(메서드)을 할 수 있습니다.\n",
    "\n",
    "\n",
    "* `bark()`: 울기. `'pikachu'` 를 출력합니다.\n",
    "\n",
    "\n",
    "* `body_attack()`: 몸통박치기. 상대방의 hp 를 내 `level` * 5 만큼 차감합니다.\n",
    "\n",
    "\n",
    "* `thousond_volt()`: 십만볼트. 상대방의 hp 를 내 `level` * 7 만큼 차감합니다."
   ]
  },
  {
   "cell_type": "code",
   "execution_count": 25,
   "id": "binding-optics",
   "metadata": {
    "ExecuteTime": {
     "end_time": "2022-01-27T07:07:28.051213Z",
     "start_time": "2022-01-27T07:07:28.041217Z"
    }
   },
   "outputs": [],
   "source": [
    "# 아래에 코드를 작성하세요.\n",
    "import random\n",
    "\n",
    "class Pokemon:\n",
    "    \n",
    "    level = 5\n",
    "    \n",
    "    \n",
    "    def __init__(self, name):\n",
    "        self.name = name\n",
    "        self.hp = self.level * 20\n",
    "        self.exp = 0\n",
    "        self.skills = ['body_attack', 'thousond_volt']\n",
    "    \n",
    "    def bark(self):\n",
    "        print(self.name)\n",
    "    \n",
    "    def battle_end(self, other):\n",
    "        print(f'\\n{other.name}은(는) 쓰러졌다! {self.name}은(는) {other.level * 15}의 경험치를 획득했다!')\n",
    "        self.exp += other.level * 15\n",
    "        if self.exp >= self.level * 100:\n",
    "            self.exp -= self.level * 100\n",
    "            self.level += 1\n",
    "            self.hp = self.level * 20\n",
    "            print(f'{self.name}은 {self.level}이 되었다!!')\n",
    "        print(f'현재 경험치 {self.exp}')\n",
    "    \n",
    "    def body_attack(self, other):\n",
    "        print(f'{self.name}은(는) 몸통 박치기를 사용했다!')\n",
    "        other.hp -= self.level * 5\n",
    "        \n",
    "    \n",
    "    def thousond_volt(self, other):\n",
    "        print(f'{self.name}은(는) 십만 볼트를 사용했다!')\n",
    "        print('효과는 별로인 듯 하다...')\n",
    "        other.hp -= self.level * 7\n",
    "        \n",
    "    def attack(self, other):\n",
    "        self.skill = random.choice(self.skills)\n",
    "        if self.skill == 'body_attack':\n",
    "            self.body_attack(other)\n",
    "        elif self.skill == 'thousond_volt':\n",
    "            self.thousond_volt(other)\n",
    "    \n",
    "def battle(name1, name2):\n",
    "    p1 = Pokemon(name1)\n",
    "    p2 = Pokemon(name2)\n",
    "    pokemons = [p1, p2]\n",
    "    print(f'{p1.name}(LV.{p1.level})와(과) {p1.name}(LV.{p2.level})이(가) 전투를 시작했다!')\n",
    "    \n",
    "    while 1:\n",
    "        print(f'\\n{p1.name}({p1.level})\\t\\tHP\\t {p1.hp}')\n",
    "        print(f'{p2.name}({p2.level})\\t\\tHP\\t {p2.hp}\\n')\n",
    "        attacker, defender = random.sample(pokemons, 2)\n",
    "        attacker.attack(defender)\n",
    "        if defender.hp <= 0:\n",
    "            attacker.battle_end(defender)\n",
    "            del defender\n",
    "            break"
   ]
  },
  {
   "cell_type": "code",
   "execution_count": 17,
   "id": "constitutional-eleven",
   "metadata": {
    "ExecuteTime": {
     "end_time": "2022-01-27T06:56:52.985319Z",
     "start_time": "2022-01-27T06:56:52.968365Z"
    }
   },
   "outputs": [
    {
     "ename": "SyntaxError",
     "evalue": "invalid syntax (1163209683.py, line 3)",
     "output_type": "error",
     "traceback": [
      "\u001b[1;36m  Input \u001b[1;32mIn [17]\u001b[1;36m\u001b[0m\n\u001b[1;33m    while 두 포켓몬 중 하나가 쓰러지기 전까지:\u001b[0m\n\u001b[1;37m            ^\u001b[0m\n\u001b[1;31mSyntaxError\u001b[0m\u001b[1;31m:\u001b[0m invalid syntax\n"
     ]
    }
   ],
   "source": [
    "# (선택적 도전과제) 전투 코드 예시\n",
    "\n",
    "while 두 포켓몬 중 하나가 쓰러지기 전까지:\n",
    "    1. random을 이용하여 무작위로 공격권 선정\n",
    "    2. 공격권 가진 포켓몬이 상대방 공격!\n",
    "    3. 둘 중 하나가 쓰러질 때까지 1~2번 계속 반복"
   ]
  },
  {
   "cell_type": "code",
   "execution_count": 24,
   "id": "impossible-fiction",
   "metadata": {
    "ExecuteTime": {
     "end_time": "2022-01-27T06:58:58.352682Z",
     "start_time": "2022-01-27T06:58:58.339717Z"
    }
   },
   "outputs": [
    {
     "name": "stdout",
     "output_type": "stream",
     "text": [
      "피카츄(LV.5)와(과) 피카츄(LV.5)이(가) 전투를 시작했다!\n",
      "\n",
      "피카츄(5)\t\tHP\t 100\n",
      "라이츄(5)\t\tHP\t 100\n",
      "\n",
      "라이츄은(는) 십만 볼트를 사용했다!\n",
      "효과는 별로인 듯 하다...\n",
      "\n",
      "피카츄(5)\t\tHP\t 65\n",
      "라이츄(5)\t\tHP\t 100\n",
      "\n",
      "라이츄은(는) 몸통 박치기를 사용했다!\n",
      "\n",
      "피카츄(5)\t\tHP\t 40\n",
      "라이츄(5)\t\tHP\t 100\n",
      "\n",
      "피카츄은(는) 십만 볼트를 사용했다!\n",
      "효과는 별로인 듯 하다...\n",
      "\n",
      "피카츄(5)\t\tHP\t 40\n",
      "라이츄(5)\t\tHP\t 65\n",
      "\n",
      "라이츄은(는) 십만 볼트를 사용했다!\n",
      "효과는 별로인 듯 하다...\n",
      "\n",
      "피카츄(5)\t\tHP\t 5\n",
      "라이츄(5)\t\tHP\t 65\n",
      "\n",
      "피카츄은(는) 십만 볼트를 사용했다!\n",
      "효과는 별로인 듯 하다...\n",
      "\n",
      "피카츄(5)\t\tHP\t 5\n",
      "라이츄(5)\t\tHP\t 30\n",
      "\n",
      "라이츄은(는) 십만 볼트를 사용했다!\n",
      "효과는 별로인 듯 하다...\n",
      "\n",
      "피카츄는 쓰러졌다! 라이츄은 75의 경험치를 획득했다!\n",
      "현재 경험치 75\n"
     ]
    }
   ],
   "source": [
    "battle('피카츄', '라이츄')"
   ]
  }
 ],
 "metadata": {
  "kernelspec": {
   "display_name": "Python 3 (ipykernel)",
   "language": "python",
   "name": "python3"
  },
  "language_info": {
   "codemirror_mode": {
    "name": "ipython",
    "version": 3
   },
   "file_extension": ".py",
   "mimetype": "text/x-python",
   "name": "python",
   "nbconvert_exporter": "python",
   "pygments_lexer": "ipython3",
   "version": "3.9.9"
  },
  "toc": {
   "base_numbering": 1,
   "nav_menu": {},
   "number_sections": true,
   "sideBar": true,
   "skip_h1_title": false,
   "title_cell": "Table of Contents",
   "title_sidebar": "Contents",
   "toc_cell": false,
   "toc_position": {},
   "toc_section_display": true,
   "toc_window_display": false
  }
 },
 "nbformat": 4,
 "nbformat_minor": 5
}
