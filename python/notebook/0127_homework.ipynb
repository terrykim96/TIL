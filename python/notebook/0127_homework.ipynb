{
 "cells": [
  {
   "cell_type": "markdown",
   "id": "d7dc058b",
   "metadata": {},
   "source": [
    "# Circle 인스턴스 만들기\n",
    "아래와 같은 Circle 클래스가 있을 때, 반지름이 3이고 x, y좌표가 (2, 4)인 Circle 인스턴스를 만들어 넓이와 둘레를 출력하시오."
   ]
  },
  {
   "cell_type": "code",
   "execution_count": 1,
   "id": "f0759102",
   "metadata": {
    "ExecuteTime": {
     "end_time": "2022-01-28T00:16:56.944662Z",
     "start_time": "2022-01-28T00:16:56.931697Z"
    }
   },
   "outputs": [],
   "source": [
    "class Circle:\n",
    "    pi = 3.14\n",
    "    \n",
    "    def __init__(self, r, x, y):\n",
    "        self.r = r\n",
    "        self.x = x\n",
    "        self.y = y\n",
    "        \n",
    "    def area(self):\n",
    "        return self.pi * self.r * self.r\n",
    "    \n",
    "    def circumference(self):\n",
    "        return 2 * self.pi * self.r\n",
    "    \n",
    "    def center(self):\n",
    "        return (self.x, self.y)"
   ]
  },
  {
   "cell_type": "code",
   "execution_count": 2,
   "id": "8a4861b3",
   "metadata": {
    "ExecuteTime": {
     "end_time": "2022-01-28T00:17:48.887666Z",
     "start_time": "2022-01-28T00:17:48.872706Z"
    }
   },
   "outputs": [
    {
     "name": "stdout",
     "output_type": "stream",
     "text": [
      "28.259999999999998\n",
      "18.84\n"
     ]
    }
   ],
   "source": [
    "circle_instance = Circle(3, 2, 4)\n",
    "\n",
    "print(circle_instance.area())\n",
    "print(circle_instance.circumference())"
   ]
  },
  {
   "cell_type": "markdown",
   "id": "c9096bf0",
   "metadata": {},
   "source": [
    "# Dog과 Bird는 Animal이다\n",
    "다음과 같이 Animal 클래스가 주어질 때, 해당 클래스를 상속 받아 아래의 보기와 같이 동작하는 Dog 클래스와 Bird 클래스를 작성하시오."
   ]
  },
  {
   "cell_type": "code",
   "execution_count": 3,
   "id": "1ed75572",
   "metadata": {
    "ExecuteTime": {
     "end_time": "2022-01-28T00:28:17.733400Z",
     "start_time": "2022-01-28T00:28:17.727416Z"
    }
   },
   "outputs": [],
   "source": [
    "class Animal:\n",
    "    def __init__(self, name):\n",
    "        self.name = name\n",
    "        \n",
    "    def walk(self):\n",
    "        print(f'{self.name}! 걷는다!')\n",
    "    \n",
    "    def eat(self):\n",
    "        print(f'{self.name}! 먹는다!')"
   ]
  },
  {
   "cell_type": "code",
   "execution_count": 16,
   "id": "dd6bcbb4",
   "metadata": {
    "ExecuteTime": {
     "end_time": "2022-01-28T00:33:54.049694Z",
     "start_time": "2022-01-28T00:33:54.031677Z"
    }
   },
   "outputs": [],
   "source": [
    "class Dog(Animal):\n",
    "    def __init__(self, name):\n",
    "        super().__init__(name)\n",
    "    \n",
    "    def bark(self):\n",
    "        print(f'{self.name}! 짖는다!')\n",
    "        \n",
    "class Bird(Animal):\n",
    "    def __init__(self, name):\n",
    "        super().__init__(name)\n",
    "    \n",
    "    def fly(self):\n",
    "        print(f'{self.name}! 푸드덕!')"
   ]
  },
  {
   "cell_type": "code",
   "execution_count": 17,
   "id": "053f3407",
   "metadata": {
    "ExecuteTime": {
     "end_time": "2022-01-28T00:33:55.997954Z",
     "start_time": "2022-01-28T00:33:55.986983Z"
    }
   },
   "outputs": [
    {
     "name": "stdout",
     "output_type": "stream",
     "text": [
      "멍멍이! 걷는다!\n",
      "멍멍이! 짖는다!\n",
      "구구! 걷는다!\n",
      "구구! 먹는다!\n",
      "구구! 푸드덕!\n"
     ]
    }
   ],
   "source": [
    "dog = Dog('멍멍이')\n",
    "\n",
    "dog.walk()\n",
    "dog.bark()\n",
    "\n",
    "bird = Bird('구구')\n",
    "\n",
    "bird.walk()\n",
    "bird.eat()\n",
    "bird.fly()"
   ]
  },
  {
   "cell_type": "markdown",
   "id": "1c93dcf8",
   "metadata": {},
   "source": [
    "# 오류의 종류\n",
    "아래에 제시된 오류들이 각각 어떠한 경우에 발생하는지 간단하게 작성하시오.\n",
    "\n",
    "`ZeroDivisionError`: 파이썬에서는 어떤 수를 0으로 나눌 경우\n",
    "`NameError`: 어느 곳에서도 정의되지 않은 변수를 호출하였을 경우\n",
    "`TypeError`: 자료형이 올바르지 못한 경우\n",
    "`IndexError`: 존재하지 않는 index로 조회할 경우\n",
    "`KeyError`: 존재하지 않는 Key로 접근한 경우\n",
    "`ModuleNotFoundError`: 존재하지 않는 Module을 import 하는 경우\n",
    "`ImportError`: Module은 찾았으나 존재하지 않는 클래스/함수를 가져오는 경우"
   ]
  }
 ],
 "metadata": {
  "kernelspec": {
   "display_name": "Python 3 (ipykernel)",
   "language": "python",
   "name": "python3"
  },
  "language_info": {
   "codemirror_mode": {
    "name": "ipython",
    "version": 3
   },
   "file_extension": ".py",
   "mimetype": "text/x-python",
   "name": "python",
   "nbconvert_exporter": "python",
   "pygments_lexer": "ipython3",
   "version": "3.9.9"
  },
  "toc": {
   "base_numbering": 1,
   "nav_menu": {},
   "number_sections": true,
   "sideBar": true,
   "skip_h1_title": false,
   "title_cell": "Table of Contents",
   "title_sidebar": "Contents",
   "toc_cell": false,
   "toc_position": {},
   "toc_section_display": true,
   "toc_window_display": false
  }
 },
 "nbformat": 4,
 "nbformat_minor": 5
}
