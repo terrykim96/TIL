{
 "cells": [
  {
   "cell_type": "markdown",
   "id": "d0ab0171",
   "metadata": {},
   "source": [
    "# 무엇이 중복일까\n",
    "문자열을 전달 받아 해당 문자열에서 중복해서 나타난 문자들을 담은 list를 반환하는 duplicated_letters 함수를 작성하시오."
   ]
  },
  {
   "cell_type": "code",
   "execution_count": 14,
   "id": "9b8076a8",
   "metadata": {
    "ExecuteTime": {
     "end_time": "2022-01-25T05:28:40.986739Z",
     "start_time": "2022-01-25T05:28:40.969815Z"
    }
   },
   "outputs": [],
   "source": [
    "def duplicated_letters(word):\n",
    "    ans = []\n",
    "    for string in word:\n",
    "        if word.count(string) > 1:\n",
    "            if not string in ans:\n",
    "                ans.append(string)\n",
    "    return ans"
   ]
  },
  {
   "cell_type": "code",
   "execution_count": 15,
   "id": "de650ed3",
   "metadata": {
    "ExecuteTime": {
     "end_time": "2022-01-25T05:28:42.276470Z",
     "start_time": "2022-01-25T05:28:42.261510Z"
    }
   },
   "outputs": [
    {
     "name": "stdout",
     "output_type": "stream",
     "text": [
      "['p']\n",
      "['a', 'n']\n"
     ]
    }
   ],
   "source": [
    "print(duplicated_letters('apple'))\n",
    "print(duplicated_letters('banana'))"
   ]
  },
  {
   "cell_type": "markdown",
   "id": "d9fb6553",
   "metadata": {},
   "source": [
    "# 소대소대\n",
    "문자열을 전달 받아 해당 문자열을 소문자와 대문자가 번갈아 나타나도록 변환하여 반환하는 low_and_up 함수를 작성하시오. 이때, 전달 받는 문자열은 알파벳으로만 구성된다."
   ]
  },
  {
   "cell_type": "code",
   "execution_count": 18,
   "id": "c452dafa",
   "metadata": {
    "ExecuteTime": {
     "end_time": "2022-01-25T05:32:29.472106Z",
     "start_time": "2022-01-25T05:32:29.461159Z"
    }
   },
   "outputs": [],
   "source": [
    "def low_and_up(word):\n",
    "    ans = []\n",
    "    for i in range(len(word)):\n",
    "        if i % 2 == 0:\n",
    "            ans.append(word[i].lower())\n",
    "        else:\n",
    "            ans.append(word[i].upper())\n",
    "    return ''.join(ans)"
   ]
  },
  {
   "cell_type": "code",
   "execution_count": 19,
   "id": "25f07277",
   "metadata": {
    "ExecuteTime": {
     "end_time": "2022-01-25T05:32:30.808820Z",
     "start_time": "2022-01-25T05:32:30.804795Z"
    }
   },
   "outputs": [
    {
     "name": "stdout",
     "output_type": "stream",
     "text": [
      "aPpLe\n",
      "bAnAnA\n"
     ]
    }
   ],
   "source": [
    "print(low_and_up('apple'))\n",
    "print(low_and_up('banana'))"
   ]
  },
  {
   "cell_type": "markdown",
   "id": "908c0cad",
   "metadata": {},
   "source": [
    "# 솔로 천국 만들기\n",
    "정수 0부터 9까지로 이루어진 list를 전달 받아, 연속적으로 나타나는 숫자는 하나만 남기고 제거한 list를 반환하는 lonely 함수를 작성하시오. 이때, 제거된 후 남은 수들이 담긴 list의 요소들은 기존의 순서를 유지해야 한다."
   ]
  },
  {
   "cell_type": "code",
   "execution_count": 24,
   "id": "612aa8d8",
   "metadata": {
    "ExecuteTime": {
     "end_time": "2022-01-25T05:39:41.901762Z",
     "start_time": "2022-01-25T05:39:41.896775Z"
    }
   },
   "outputs": [],
   "source": [
    "def lonely(numbers):\n",
    "    ans = []\n",
    "    for i in range(1, len(numbers)):\n",
    "        if numbers[i] == numbers[i-1]:\n",
    "            if not numbers[i] in ans:\n",
    "                ans.append(numbers[i])\n",
    "        else:\n",
    "            ans.append(numbers[i])\n",
    "    return ans"
   ]
  },
  {
   "cell_type": "code",
   "execution_count": 27,
   "id": "4b231a94",
   "metadata": {
    "ExecuteTime": {
     "end_time": "2022-01-25T08:06:49.629721Z",
     "start_time": "2022-01-25T08:06:49.617752Z"
    }
   },
   "outputs": [
    {
     "name": "stdout",
     "output_type": "stream",
     "text": [
      "[1, 3, 0, 1]\n",
      "[4, 3]\n"
     ]
    }
   ],
   "source": [
    "print(lonely([1, 1, 3, 3, 0, 1, 1]))\n",
    "print(lonely([4, 4, 4, 3, 3]))"
   ]
  }
 ],
 "metadata": {
  "kernelspec": {
   "display_name": "Python 3 (ipykernel)",
   "language": "python",
   "name": "python3"
  },
  "language_info": {
   "codemirror_mode": {
    "name": "ipython",
    "version": 3
   },
   "file_extension": ".py",
   "mimetype": "text/x-python",
   "name": "python",
   "nbconvert_exporter": "python",
   "pygments_lexer": "ipython3",
   "version": "3.9.9"
  },
  "toc": {
   "base_numbering": 1,
   "nav_menu": {},
   "number_sections": true,
   "sideBar": true,
   "skip_h1_title": false,
   "title_cell": "Table of Contents",
   "title_sidebar": "Contents",
   "toc_cell": false,
   "toc_position": {},
   "toc_section_display": true,
   "toc_window_display": false
  }
 },
 "nbformat": 4,
 "nbformat_minor": 5
}
