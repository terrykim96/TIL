{
 "cells": [
  {
   "cell_type": "markdown",
   "id": "31ae238e",
   "metadata": {},
   "source": [
    "#  Type Class\n",
    "Python은 객체 지향 프로그래밍 언어이다. Python에서 기본적으로 정의되어 있는 클래스를 최소 5가지 이상 작성하시오.\n",
    "\n",
    "int, str, list, dict, set"
   ]
  },
  {
   "cell_type": "markdown",
   "id": "70b6fc50",
   "metadata": {},
   "source": [
    "# Magic Method\n",
    "아래에 제시된 매직 메서드들이 각각 어떠한 역할을 하는지 간단하게 작성하시오.\n",
    "\n",
    "__init__ : 클래스 인스턴스 생성시 초기화하며 실행되는 함수\n",
    "__del__ : 인스턴스 객체가 소멸(파괴)되기 직전에 자동으로 호출되는 함수\n",
    "__str__ 매직 메소드가 구현되어 있지 않은 상태에서 인스턴스를 print하면 object가 나옴\n",
    "__repr__ : 개발, 엔지니어 레벨에서 객체의 엄격한 타입을 표현시 사용, 객체 표현을 반환함"
   ]
  },
  {
   "cell_type": "markdown",
   "id": "fc2d2862",
   "metadata": {},
   "source": [
    "# Instance Method\n",
    ".sort()와 같이 문자열, 리스트, 딕셔너리 등을 조작 할 때 사용하였던 것들은 클래스에 정의된 메서드들이었다. 이처럼 문자열, 리스트, 딕셔너리 등을 조작하는 메서드를 최소 3가지 이상 그 역할과 함께 작성하시오.\n",
    "\n",
    ".append() : 리스트에 요소를 추가하는 메서드\n",
    ".keys() : 딕셔너리의 key를 반환하는 메서드\n",
    ".items() : 딕셔너리의 key와 value를 반환하는 메서드 "
   ]
  },
  {
   "cell_type": "markdown",
   "id": "25293459",
   "metadata": {},
   "source": [
    "# Module Import\n",
    "위와 같은 코드가 같은 폴더 안의 fibo.py 파일에 작성되어 있을 때, 아래와 같은 형태로 함수를 실행 할 수 있도록 하는 import 문을 빈칸 (a), (b), (c)를 채워 넣어 완성하시오.\n",
    "\n",
    "from (a)fibo import (b)fibo_recursion as (c)recursion"
   ]
  }
 ],
 "metadata": {
  "kernelspec": {
   "display_name": "Python 3 (ipykernel)",
   "language": "python",
   "name": "python3"
  },
  "language_info": {
   "codemirror_mode": {
    "name": "ipython",
    "version": 3
   },
   "file_extension": ".py",
   "mimetype": "text/x-python",
   "name": "python",
   "nbconvert_exporter": "python",
   "pygments_lexer": "ipython3",
   "version": "3.9.9"
  },
  "toc": {
   "base_numbering": 1,
   "nav_menu": {},
   "number_sections": true,
   "sideBar": true,
   "skip_h1_title": false,
   "title_cell": "Table of Contents",
   "title_sidebar": "Contents",
   "toc_cell": false,
   "toc_position": {},
   "toc_section_display": true,
   "toc_window_display": false
  }
 },
 "nbformat": 4,
 "nbformat_minor": 5
}
