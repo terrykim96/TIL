{
 "cells": [
  {
   "cell_type": "markdown",
   "id": "be521014",
   "metadata": {},
   "source": [
    "# 도형 만들기\n",
    "아래의 명세를 읽고 Python 클래스를 활용하여 점(Point)과 사각형(Rectangle)을 표현하시오."
   ]
  },
  {
   "cell_type": "code",
   "execution_count": 13,
   "id": "f502bb63",
   "metadata": {
    "ExecuteTime": {
     "end_time": "2022-01-28T00:13:33.530238Z",
     "start_time": "2022-01-28T00:13:33.524225Z"
    }
   },
   "outputs": [],
   "source": [
    "class Point():\n",
    "    \n",
    "    def __init__(self, x, y):\n",
    "        self.x = x\n",
    "        self.y = y\n",
    "        \n",
    "class Rectangle():\n",
    "\n",
    "    def __init__(self, x1,x2):\n",
    "        self.x1 = [x1.x, x1.y]\n",
    "        self.x2 = [x2.x, x2.y]\n",
    "    \n",
    "    def get_area(self):\n",
    "        return abs(self.x1[0] - self.x2[0]) * abs(self.x1[1] - self.x2[1])\n",
    "    \n",
    "    def get_perimeter(self):\n",
    "        return (abs(self.x1[0] - self.x2[0]) + abs(self.x1[1] - self.x2[1])) * 2\n",
    "    \n",
    "    def is_square(self):\n",
    "        if abs(self.x1[0] - self.x2[0]) == abs(self.x1[1] - self.x2[1]):\n",
    "            return True\n",
    "        return False"
   ]
  },
  {
   "cell_type": "code",
   "execution_count": 14,
   "id": "cc5cfedb",
   "metadata": {
    "ExecuteTime": {
     "end_time": "2022-01-28T00:13:34.874659Z",
     "start_time": "2022-01-28T00:13:34.868675Z"
    }
   },
   "outputs": [
    {
     "name": "stdout",
     "output_type": "stream",
     "text": [
      "4\n",
      "8\n",
      "True\n",
      "9\n",
      "12\n",
      "True\n"
     ]
    }
   ],
   "source": [
    "p1 = Point(1, 3)\n",
    "p2 = Point(3, 1)\n",
    "r1 = Rectangle(p1, p2)\n",
    "\n",
    "print(r1.get_area())\n",
    "print(r1.get_perimeter())\n",
    "print(r1.is_square())\n",
    "\n",
    "p3 = Point(3, 7)\n",
    "p4 = Point(6, 4)\n",
    "r2 = Rectangle(p3, p4)\n",
    "\n",
    "print(r2.get_area())\n",
    "print(r2.get_perimeter())\n",
    "print(r2.is_square())"
   ]
  }
 ],
 "metadata": {
  "kernelspec": {
   "display_name": "Python 3 (ipykernel)",
   "language": "python",
   "name": "python3"
  },
  "language_info": {
   "codemirror_mode": {
    "name": "ipython",
    "version": 3
   },
   "file_extension": ".py",
   "mimetype": "text/x-python",
   "name": "python",
   "nbconvert_exporter": "python",
   "pygments_lexer": "ipython3",
   "version": "3.9.9"
  },
  "toc": {
   "base_numbering": 1,
   "nav_menu": {},
   "number_sections": true,
   "sideBar": true,
   "skip_h1_title": false,
   "title_cell": "Table of Contents",
   "title_sidebar": "Contents",
   "toc_cell": false,
   "toc_position": {},
   "toc_section_display": true,
   "toc_window_display": false
  }
 },
 "nbformat": 4,
 "nbformat_minor": 5
}
