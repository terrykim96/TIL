{
 "cells": [
  {
   "cell_type": "code",
   "execution_count": 3,
   "id": "59d05c7b",
   "metadata": {
    "ExecuteTime": {
     "end_time": "2022-01-19T13:31:11.075404Z",
     "start_time": "2022-01-19T13:31:10.228994Z"
    }
   },
   "outputs": [
    {
     "name": "stdout",
     "output_type": "stream",
     "text": [
      "8 0 1 0 1 0 0 0 1 2 1 3 2 3\n"
     ]
    },
    {
     "ename": "ValueError",
     "evalue": "invalid literal for int() with base 10: '8 0 1 0 1 0 0 0 1 2 1 3 2 3'",
     "output_type": "error",
     "traceback": [
      "\u001b[1;31m---------------------------------------------------------------------------\u001b[0m",
      "\u001b[1;31mValueError\u001b[0m                                Traceback (most recent call last)",
      "Input \u001b[1;32mIn [3]\u001b[0m, in \u001b[0;36m<module>\u001b[1;34m\u001b[0m\n\u001b[1;32m----> 1\u001b[0m switch_len \u001b[38;5;241m=\u001b[39m \u001b[38;5;28;43mint\u001b[39;49m\u001b[43m(\u001b[49m\u001b[38;5;28;43minput\u001b[39;49m\u001b[43m(\u001b[49m\u001b[43m)\u001b[49m\u001b[43m)\u001b[49m\n\u001b[0;32m      2\u001b[0m switch_list \u001b[38;5;241m=\u001b[39m \u001b[38;5;28mlist\u001b[39m(\u001b[38;5;28mmap\u001b[39m(\u001b[38;5;28mint\u001b[39m, \u001b[38;5;28minput\u001b[39m()\u001b[38;5;241m.\u001b[39msplit()))\n\u001b[0;32m      3\u001b[0m student_num \u001b[38;5;241m=\u001b[39m \u001b[38;5;28mint\u001b[39m(\u001b[38;5;28minput\u001b[39m())\n",
      "\u001b[1;31mValueError\u001b[0m: invalid literal for int() with base 10: '8 0 1 0 1 0 0 0 1 2 1 3 2 3'"
     ]
    }
   ],
   "source": [
    "switch_len = int(input())\n",
    "switch_list = list(map(int, input().split()))\n",
    "student_num = int(input())\n",
    "student_info = []\n",
    "\n",
    "for _ in range(student_num):\n",
    "    student_info.append(list(map(int, input().split())))\n",
    "\n",
    "def boys(num):\n",
    "    for i in range(switch_len):\n",
    "        if (i+1) % num == 0:\n",
    "            switch_list[i] = int(not switch_list[i])\n",
    "            \n",
    "def girls(num):\n",
    "    if num == 1 or num == switch_len:\n",
    "        switch_list[num-1] =  int(not switch_list[num-1])\n",
    "    else:\n",
    "        for i in range(int(switch_len/2)):\n",
    "            if (num - 1 - i) >= 0:\n",
    "                if switch_list[num - 1 - i] == switch_list[num - 1 + i]:\n",
    "                    switch_list[num - 1 + i], switch_list[num - 1 - i] = int(not switch_list[num - 1 + i]),  int(not switch_list[num - 1 - i])\n",
    "                else:\n",
    "                    break\n",
    "\n",
    "for i in range(student_num):\n",
    "    if student_info[i][0] == 1:\n",
    "        boys(student_info[i][1])\n",
    "    else:\n",
    "        girls(student_info[i][1])\n",
    "\n",
    "ans = ' '.join(map(str, switch_list))\n",
    "print(ans)"
   ]
  }
 ],
 "metadata": {
  "kernelspec": {
   "display_name": "Python 3 (ipykernel)",
   "language": "python",
   "name": "python3"
  },
  "language_info": {
   "codemirror_mode": {
    "name": "ipython",
    "version": 3
   },
   "file_extension": ".py",
   "mimetype": "text/x-python",
   "name": "python",
   "nbconvert_exporter": "python",
   "pygments_lexer": "ipython3",
   "version": "3.9.9"
  },
  "toc": {
   "base_numbering": 1,
   "nav_menu": {},
   "number_sections": true,
   "sideBar": true,
   "skip_h1_title": false,
   "title_cell": "Table of Contents",
   "title_sidebar": "Contents",
   "toc_cell": false,
   "toc_position": {},
   "toc_section_display": true,
   "toc_window_display": false
  }
 },
 "nbformat": 4,
 "nbformat_minor": 5
}
