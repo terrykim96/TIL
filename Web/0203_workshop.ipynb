{
 "cells": [
  {
   "cell_type": "markdown",
   "id": "b77dab0e",
   "metadata": {},
   "source": [
    "#  img tag\n",
    "아래 그림과 같은 폴더 구조가 있다. resume.html에서 코드를 작성 중일 때, image \n",
    "폴더 안의 my_photo.png를 보여주는 <img> tag를 작성하시오. \n",
    "단, 이미지가 제대로 출력되지 않을 때는 ssafy 문자열이 출력 되도록 작성하시오.\n",
    "\n",
    "<img src=\"절대경로\" alt=\"SSAFY(대체텍스트)\">"
   ]
  },
  {
   "cell_type": "markdown",
   "id": "96d35e05",
   "metadata": {},
   "source": [
    "# 파일 경로\n",
    "위와 같이 경로를 __(a)__로 작성 할 시, github에 업로드 하거나 전체 폴더의 위치가\n",
    "변경 되었을 때 이미지를 불러 올 수 없게 된다. 이를 해결 하려면 이미지 경로를 __(b)__\n",
    "로 바꾸어 작성하면 된다. \n",
    "__(a)__와 __(b)__에 들어갈 말과 __(b)__ 로 변경한 코드를 작성하시오.\n",
    "\n",
    "(a) 절대경로 (b) 상대경로\n",
    "\n",
    "<../image/my_photo.png>"
   ]
  },
  {
   "cell_type": "markdown",
   "id": "3a76a88a",
   "metadata": {},
   "source": [
    "# Hyper Link\n",
    "출력된 my_photo.png 이미지를 클릭하면 ssafy.com으로 이동하도록 하시오.\n",
    "\n",
    "<a href=\"https://ssafy.com\">\n",
    "    <img>\n",
    "</a>"
   ]
  },
  {
   "cell_type": "markdown",
   "id": "4c3185e3",
   "metadata": {},
   "source": [
    "# 선택자\n",
    "1) 아래의 코드를 작성하고 결과를 확인 하시오\n",
    "\n",
    "첫번째 단락이 빨간색으로 나온다.\n",
    "\n",
    "2) nth-child를 nth-of-type으로 변경하고 결과를 확인 하시오.\n",
    "\n",
    "두번째 단락이 빨간색으로 나온다.\n",
    "\n",
    "3) 작성한 코드를 참고하여 nth-child()와 nth-of-type()의 차이점을 작성하시오.\n",
    "nth-child()는 자식 중 n번째가 p type이면 색을 바꾸라는 명령이고\n",
    "nth-of-type()은 자식들 중 p type들 중에 n번째의 색을 바꾸라는 명령이다."
   ]
  }
 ],
 "metadata": {
  "kernelspec": {
   "display_name": "Python 3 (ipykernel)",
   "language": "python",
   "name": "python3"
  },
  "language_info": {
   "codemirror_mode": {
    "name": "ipython",
    "version": 3
   },
   "file_extension": ".py",
   "mimetype": "text/x-python",
   "name": "python",
   "nbconvert_exporter": "python",
   "pygments_lexer": "ipython3",
   "version": "3.9.9"
  },
  "toc": {
   "base_numbering": 1,
   "nav_menu": {},
   "number_sections": true,
   "sideBar": true,
   "skip_h1_title": false,
   "title_cell": "Table of Contents",
   "title_sidebar": "Contents",
   "toc_cell": false,
   "toc_position": {},
   "toc_section_display": true,
   "toc_window_display": false
  }
 },
 "nbformat": 4,
 "nbformat_minor": 5
}
