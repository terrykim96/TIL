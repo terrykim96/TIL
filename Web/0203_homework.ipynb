{
 "cells": [
  {
   "cell_type": "markdown",
   "id": "07329486",
   "metadata": {},
   "source": [
    "# HTML 정의\n",
    "아래의 보기 (1) ~ (4) 중에서, HTML의 본딧말을 고르시오. \n",
    "\n",
    "(3) Hyper Text Markup Language"
   ]
  },
  {
   "cell_type": "markdown",
   "id": "6bd4063a",
   "metadata": {},
   "source": [
    "# HTML 개념\n",
    "각 문항을 읽고 맞으면 T, 틀리면 F를 작성 하시오.\n",
    "1) 웹 표준을 만드는 곳은 Mozilla 재단이다. (F)\n",
    "2) 표(table) 을 만들 때에는 반드시 <th> 태그를 사용해야 한다. (F)\n",
    "3) 제목(Heading) 태그는 제목 이외에는 사용하지 않는 것이 좋다. (T)\n",
    "4) 리스트를 나열하기 위해서는 <ul> 태그만 사용 할 수 있다. (F) - ol도 있다.\n",
    "5) HTML의 태그는 반드시 별도의 닫는 태그가 필요하다.   (F) - br, hr 등"
   ]
  },
  {
   "cell_type": "markdown",
   "id": "872c1e7d",
   "metadata": {},
   "source": [
    "# CSS 정의\n",
    "아래의 보기 (1) ~ (4) 중에서, CSS의 본딧말을 고르시오. \n",
    "\n",
    "(2) Cascading Style Sheets"
   ]
  },
  {
   "cell_type": "markdown",
   "id": "9696bc74",
   "metadata": {},
   "source": [
    "# CSS 개념\n",
    "각 문항을 읽고 맞으면 T, 틀리면 F를 작성 하시오.\n",
    "1) HTML과 CSS는 각자 문법을 갖는 별개의 언어이다. (T)\n",
    "2) 웹 브라우저는 내장 기본 스타일이 있어 CSS가 없어도 작동한다. (T)\n",
    "3) 자식 요소 프로퍼티는 부모의 프로퍼티를 모두 상속 받는다.  (F)\n",
    "4) 디바이스마다 화면의 크기가 다른 것을 고려하여 상대 단위인 %를 사용한다. (F) - vh, vw를 사용한다.\n",
    "5) id 값은 유일해야 하므로 중복되어서는 안된다. (T)"
   ]
  },
  {
   "cell_type": "markdown",
   "id": "bc1a982b",
   "metadata": {},
   "source": [
    "# CSS 우선순위\n",
    "CSS는 우선 적용되는 순서가 존재 한다. 우선순위가 높은 순으로 나열 하시오.\n",
    "\n",
    "!important, Inline style, id 선택자, class 선택자, 요소 선택자, 소스 순서"
   ]
  }
 ],
 "metadata": {
  "kernelspec": {
   "display_name": "Python 3 (ipykernel)",
   "language": "python",
   "name": "python3"
  },
  "language_info": {
   "codemirror_mode": {
    "name": "ipython",
    "version": 3
   },
   "file_extension": ".py",
   "mimetype": "text/x-python",
   "name": "python",
   "nbconvert_exporter": "python",
   "pygments_lexer": "ipython3",
   "version": "3.9.9"
  },
  "toc": {
   "base_numbering": 1,
   "nav_menu": {},
   "number_sections": true,
   "sideBar": true,
   "skip_h1_title": false,
   "title_cell": "Table of Contents",
   "title_sidebar": "Contents",
   "toc_cell": false,
   "toc_position": {},
   "toc_section_display": true,
   "toc_window_display": false
  }
 },
 "nbformat": 4,
 "nbformat_minor": 5
}
