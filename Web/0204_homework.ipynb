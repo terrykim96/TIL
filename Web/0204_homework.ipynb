{
 "cells": [
  {
   "cell_type": "markdown",
   "id": "f44a94af",
   "metadata": {},
   "source": [
    "# Semantic Tag\n",
    "보기 중 콘텐츠의 의미를 명확히 하기 위해 HTML5에서 새롭게 추가된 시맨틱(semantic) 태그를 모두 고르시오.\n",
    "\n",
    "`div`, `header`, `h1`, `section`, `footer`, `a`, `form`, `span`\n",
    "\n",
    "`header` `section` `footer`"
   ]
  },
  {
   "cell_type": "markdown",
   "id": "e7f81f93",
   "metadata": {},
   "source": [
    "# input Tag\n",
    "아래 이미지와 같이 로그인 Form을 생성하는 HTML코드를 작성하시오. 단, USERNAME 글자를 클릭하면 아이디를 입력하는 input에, PWD 글자를 클릭하면 비밀번호를 입력하는 input에 focusing 되도록 하시오."
   ]
  },
  {
   "cell_type": "code",
   "execution_count": null,
   "id": "a0c5da7a",
   "metadata": {},
   "outputs": [],
   "source": [
    "<!DOCTYPE html>\n",
    "<html lang=\"en\">\n",
    "<head>\n",
    "  <meta charset=\"UTF-8\">\n",
    "  <meta http-equiv=\"X-UA-Compatible\" content=\"IE=edge\">\n",
    "  <meta name=\"viewport\" content=\"width=device-width, initial-scale=1.0\">\n",
    "  <title>Document</title>\n",
    "</head>\n",
    "<body>\n",
    "  <section>\n",
    "    <div>\n",
    "      <label for=\"username\">USERNAME :</label>\n",
    "      <input placeholder=\"아이디를 입력 해 주세요.\" type=\"text\" id=\"username\">\n",
    "    </div>\n",
    "    <div>\n",
    "      <label for=\"password\">PWD :</label>\n",
    "      <input type=\"password\" id=\"password\" name=\"password\" autofocus>\n",
    "      <button>로그인</button>\n",
    "    </div>\n",
    "  </section>\n",
    "</body>\n",
    "</html>"
   ]
  },
  {
   "cell_type": "markdown",
   "id": "244318aa",
   "metadata": {},
   "source": [
    "#  크기 단위\n",
    "크기 단위 em은 요소에 지정된 상속된 사이즈나 기본 사이즈에 대해 상대적인 사이즈를 설정한다. 즉, 상속의 영향으로 사이즈가 의도치 않게 변경될 수 있는데 이를 예방하기 위해 HTML 최상위 요소의 사이즈를 기준으로 삼는 크기 단위는 무엇인가?\n",
    "\n",
    "rem"
   ]
  },
  {
   "cell_type": "markdown",
   "id": "bfd2ccfb",
   "metadata": {},
   "source": [
    "# 선택자\n",
    "다음 예제를 통해 ‘자손 결합자’와 ‘자식 결합자’의 차이를 설명하시오."
   ]
  },
  {
   "cell_type": "markdown",
   "id": "2b5a6bbc",
   "metadata": {},
   "source": [
    "자손 결합자는 본인 자식의 자식(최하위 요소)까지 영향을 미쳐 div 내 모든 p의 색을 crimson 색으로 바꾼다.\n",
    "자식 결합자는 본인의 자식까지만 영향을 미쳐 div 바로 하위 p의 색을 crimson으로 바꾼다."
   ]
  }
 ],
 "metadata": {
  "kernelspec": {
   "display_name": "Python 3 (ipykernel)",
   "language": "python",
   "name": "python3"
  },
  "language_info": {
   "codemirror_mode": {
    "name": "ipython",
    "version": 3
   },
   "file_extension": ".py",
   "mimetype": "text/x-python",
   "name": "python",
   "nbconvert_exporter": "python",
   "pygments_lexer": "ipython3",
   "version": "3.9.9"
  },
  "toc": {
   "base_numbering": 1,
   "nav_menu": {},
   "number_sections": true,
   "sideBar": true,
   "skip_h1_title": false,
   "title_cell": "Table of Contents",
   "title_sidebar": "Contents",
   "toc_cell": false,
   "toc_position": {},
   "toc_section_display": true,
   "toc_window_display": false
  }
 },
 "nbformat": 4,
 "nbformat_minor": 5
}
